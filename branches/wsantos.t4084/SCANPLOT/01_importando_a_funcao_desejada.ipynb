{
 "cells": [
  {
   "cell_type": "markdown",
   "metadata": {},
   "source": [
    "# 1. Importando a função desejada\n",
    "\n",
    "O primeiro passo para a utilização do SCANPLOT, é definir que tipo de gráfico desejamos construir. Em parte, isso dependerá da forma como o SCANTEC foi utilizado na avaliação. Basicamente, o SCANTEC pode ser aplicado de duas formas distintas: indicando-se as mesmas datas de início de fim; ou, indicando-se duas datas diferentes para o início e o fim. No primeiro caso, o usuário precisará de um script que se encarregará de atualizar as datas de início e fim, de forma que a avaliação possa ser feita para diferentes datas. Ainda neste caso, as tabelas de avaliação serão escritas para cada um dos dias em que o SCANTEC foi aplicado. No segundo caso, apenas uma tabela de cada estatística será escrita, compreendendo o período de avaliação indicado. Esta diferença é essencial para a escolha do tipo de gráfico e qual função deverá ser empregada.\n",
    "\n",
    "As funções disponíveis atualmente no SCANPLOT, são as seguintes:\n",
    "\n",
    "* scanplot_diário\n",
    "* scanplot_mensal\n",
    "* scanplot_scorecard\n",
    "\n",
    "Utilize a célula a seguir para importar a função desejada. Pressione as teclas \"Ctrl+Enter\" para prosseguir ou pressione o botão \"Run\" na barra de ferramentas acima."
   ]
  },
  {
   "cell_type": "code",
   "execution_count": 1,
   "metadata": {},
   "outputs": [
    {
     "name": "stdout",
     "output_type": "stream",
     "text": [
      "##versões utilizadas##\n",
      "Python version: 3.8.2 (default, Mar 26 2020, 10:43:30) \n",
      "[Clang 4.0.1 (tags/RELEASE_401/final)]\n",
      "NumPy version: 1.18.1\n",
      "pandas version: 1.0.3\n",
      "matplotlib version: 3.2.1\n",
      "seaborn version: 0.10.1\n",
      "    \n",
      "##versões utilizadas##\n",
      "Python version: 3.8.2 (default, Mar 26 2020, 10:43:30) \n",
      "[Clang 4.0.1 (tags/RELEASE_401/final)]\n",
      "NumPy version: 1.18.1\n",
      "pandas version: 1.0.3\n",
      "matplotlib version: 3.2.1\n",
      "seaborn version: 0.10.1\n",
      "    \n"
     ]
    }
   ],
   "source": [
    "from scanplot_mensal_jn import *\n",
    "from scanplot_diario_jn import *"
   ]
  },
  {
   "cell_type": "markdown",
   "metadata": {},
   "source": [
    "A instrução a seguir permite que controles de exibição das figuras sejam criados (eg., botões de navegação). Caso queira exportar este notebook para um arquivo (eg., PDF, LaTeX), será necessário comentar a instrução abaixo, reiniciar o Kernel e executar todas as células novamente."
   ]
  },
  {
   "cell_type": "code",
   "execution_count": 2,
   "metadata": {},
   "outputs": [],
   "source": [
    "#%matplotlib qt\n",
    "%matplotlib inline"
   ]
  },
  {
   "cell_type": "markdown",
   "metadata": {},
   "source": [
    "[Home](SCANPLOT_App.ipynb) | [Próximo >> 2. Entrada dos Parâmetros](02_entrada_dos_parametros.ipynb)"
   ]
  }
 ],
 "metadata": {
  "kernelspec": {
   "display_name": "Python 3",
   "language": "python",
   "name": "python3"
  },
  "language_info": {
   "codemirror_mode": {
    "name": "ipython",
    "version": 3
   },
   "file_extension": ".py",
   "mimetype": "text/x-python",
   "name": "python",
   "nbconvert_exporter": "python",
   "pygments_lexer": "ipython3",
   "version": "3.8.2"
  }
 },
 "nbformat": 4,
 "nbformat_minor": 4
}
