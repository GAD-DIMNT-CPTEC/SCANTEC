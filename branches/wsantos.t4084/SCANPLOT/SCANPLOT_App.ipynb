{
 "cells": [
  {
   "cell_type": "markdown",
   "metadata": {},
   "source": [
    "<span style=\"float:right\"><img src=\"img/logo_scantec.png\" width=180 height=180 /></span>\n",
    "\n",
    "# SCANPLOT - Um Sistema Simples de Plotagem para o SCANTEC\n",
    "\n",
    "O SCANTEC (Sistema de Avaliação de modelos Numéricos de Tempo e Clima), é um software robusto escrito em linguagem Fortan para a avaliação objetiva de modelos numéricos. A sua aplicação fornece as estatísticas básicas para a qualificação dos modelos através da sua habilidade de previsão. O SCANPLOT envolve um conjunto de scripts escritos em linguagem Python para facilitar a plotagem das tabelas das estatísticas do SCANTEC.\n",
    "\n",
    "Este notebook foi pensado como uma forma de apresentação e tutorial para o uso do SCANPLOT. Nele, o usuário deverá ser capaz de utilizar os scripts criados, alterando apenas os parâmetros necessários para que os scripts encontrem as tabelas do SCANTEC. Com este protótipo, é possível plotar quatro tipos diferentes de gráficos:\n",
    "\n",
    "* Série temporal em função do tempo de previsão;\n",
    "* Série temporal em função dos dias das previsões;\n",
    "* Scorecard do ganho percentual;\n",
    "* Scorecard da mudança fracional.\n",
    "\n",
    "O usuário deverá escolher qual tipo de gráfico deseja plotar em função da sua necessidade. Entretanto, é possível expandir as capacidades do SCANPLOT em termos dos tipos e qualidades dos gráficos.\n",
    "\n",
    "# Tutorial\n",
    "\n",
    "O tutorial está dividido em quatro partes. A primeira, \"Importando a função desejada\", mostra como carregar a função que se encarregará de plotar um dos tipos de gráficos desejados. A segunda parte, \"Entrada dos parâmetros\", mostra como ajustar os parâmetros principais (nome das variáveis, regiões, tipo de estatística etc) para a plotagem. A terceira parte, \"Plotagem dos gráficos\", mostra como chamar a função carregada na primeira parte, de forma a utilizar os parâmetros ajustados na segunda parte. E a quarta parte, \"Interatividade\", mostra alguns exemplos da utilização de widgets do Jupyter para tornar interativos os gráficos do SCANPLOT.\n",
    "\n",
    "Siga o tutorial na sequência a seguir para aprender a utilizar o SCANPLOT.\n",
    "\n",
    "1. [Importando a função desejada](01_importando_a_funcao_desejada.ipynb)\n",
    "2. [Entrada dos parâmetros](02_entrada_dos_parametros.ipynb)\n",
    "3. [Plotagem dos gráficos](03_plotagem_dos_graficos.ipynb)\n",
    "4. [Interatividade](04_interatividade.ipynb)\n",
    "\n",
    "# Todo\n",
    "\n",
    "- [ ] Incluir figuras do Scorecard\n",
    "- [ ] Incluir figuras do diagrama de Taylor \n",
    "- [ ] Incluir here document nas funções do SCANPLOT\n",
    "- [ ] Abstrair nomes dos experimentos (permitir plotar apenas 1) \n",
    "- [ ] Reorganizar os módulos (ao invés de \"from scanplot_mensal_jn import *\", fazer \"from scanplot import plot_mensal\")\n",
    "- [ ] Melhorar texto dos notebooks, incluir mais exemplos\n",
    "- [ ] Interatividade: controle dos gráficos (adicionar curvas, alterar os intervalos, fazer zoom, incluir uso dashboard etc)\n",
    "- [ ] Executar o SCANTEC a partir do Jupyter?\n",
    "\n",
    "# Referência\n",
    "\n",
    "[de MATTOS, J. G. Z.](http://lattes.cnpq.br/4563659436339486); [SAPUCCI, L. F.](http://lattes.cnpq.br/8285827971934692). **SCANTEC - SISTEMA COMUNITÁRIO DE AVALIAÇÃO DE MODELOS NUMÉRICOS DE TEMPO E CLIMA. 2017.** Patente: Programa de Computador. Número do registro: BR512017000576-1, data de registro: 30/01/2017, Instituição de registro: INPI - Instituto Nacional da Propriedade Industrial. "
   ]
  }
 ],
 "metadata": {
  "kernelspec": {
   "display_name": "Python 3",
   "language": "python",
   "name": "python3"
  },
  "language_info": {
   "codemirror_mode": {
    "name": "ipython",
    "version": 3
   },
   "file_extension": ".py",
   "mimetype": "text/x-python",
   "name": "python",
   "nbconvert_exporter": "python",
   "pygments_lexer": "ipython3",
   "version": "3.8.2"
  }
 },
 "nbformat": 4,
 "nbformat_minor": 2
}
