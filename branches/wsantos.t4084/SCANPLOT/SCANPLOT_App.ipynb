{
 "cells": [
  {
   "cell_type": "markdown",
   "metadata": {},
   "source": [
    "# SCANPLOT - Um Sistema Simples de Plotagem para o SCANTEC\n",
    "\n",
    "O SCANTEC (Sistema de Avaliação de modelos Numéricos de Tempo e Clima), é um software robusto escrito em linguagem Fortan para a avaliação de modelos numéricos. A sua aplicação fornece as estatísticas básicas para a quantificação dos modelos através da sua habilidade de previsão. O SCANPLOT representa um conjunto de scripts escritos em linguagem Python para facilitar a plotagem das tabelas das estatísticas do SCANTEC.\n",
    "\n",
    "Este notebook foi pensado como uma forma de apresentação e tutorial do SCANPLOT. Nele, o usuário deverá ser capaz de utilizar os scripts criados alterando apenas os parâmetros necessários para que os scripts encontrem as tabelas do SCANTEC. Com este protótipo, é possível plotar quatro tipos diferentes de gráficos:\n",
    "\n",
    "* Série temporal em função do tempo de previsão;\n",
    "* Série temporal em função dos dias das previsões;\n",
    "* Scorecard do ganho percentual;\n",
    "* Scorecard da mudança fracional.\n",
    "\n",
    "O usuário deverá escolher qual tipo de gráfico deseja plotar em função da sua necessidade."
   ]
  },
  {
   "cell_type": "markdown",
   "metadata": {},
   "source": [
    "# Tutorial\n",
    "\n",
    "O tutorial está dividido em três partes. A primeira, \"Importando a função desejada\", mostra como carregar a função que se encarregará de plotar um dos tipos de gráficos desejados. A segunda parte, \"Entrada dos parâmetros\", mostra como ajustar os parâmetros principais (nome das variáveis, regiões, tipo de estatística etc) para a plotagem. E a terceira parte, \"Plotagem dos gráficos\", mostra como chamar a função carregada na primeira parte, de forma a utilizar os parâmetros ajustados na segunda parte.\n",
    "\n",
    "Siga o tutorial a seguir para aprender a utilizar o SCANPLOT."
   ]
  },
  {
   "cell_type": "markdown",
   "metadata": {},
   "source": [
    "## 1. Importando a função desejada\n",
    "\n",
    "O primeiro passo para a utilização do SCANPLOT, é definir que tipo de gráfico desejamos construir. Em parte, isso dependerá da forma como o SCANTEC foi utilizado na avaliação. Basicamente, o SCANTEC pode ser aplicado de duas formas distintas: indicando-se as mesmas datas de início de fim; ou, indicando-se duas datas diferentes para o início e o fim. No primeiro caso, o usuário precisará de um script que se encarregará de atualizar as datas de início e fim, de forma que a avaliação possa ser feita para diferentes datas. Ainda neste caso, as tabelas de avaliação serão escritas para cada um dos dias em que o SCANTEC foi aplicado. No segundo caso, apenas uma tabela de cada estatística será escrita, compreendendo o período de avaliação indicado. Esta diferença é essencial para a escolha do tipo de gráfico e qual função deverá ser empregada."
   ]
  },
  {
   "cell_type": "markdown",
   "metadata": {},
   "source": [
    "As funções disponíveis atualmente no SCANPLOT, são as seguintes:\n",
    "\n",
    "* scanplot_diário\n",
    "* scanplot_mensal\n",
    "* scanplot_scorecard\n",
    "\n",
    "Utilize a célula a seguir para importar a função desejada. Pressione as teclas \"Ctrl+Enter\" para prosseguir ou pressione o botão \"Run\" na barra de ferramentas acima."
   ]
  },
  {
   "cell_type": "code",
   "execution_count": null,
   "metadata": {},
   "outputs": [],
   "source": [
    "from scanplot_diario_jn import *"
   ]
  },
  {
   "cell_type": "markdown",
   "metadata": {},
   "source": [
    "A instrução a seguir permite que controles de exibição das figuras sejam criados (eg., botões de navegação). Caso queira exportar este notebook para um arquivo (eg., PDF, LaTeX), será necessário comentar a instrução abaixo, reiniciar o Kernel e executar todas as células novamente."
   ]
  },
  {
   "cell_type": "code",
   "execution_count": null,
   "metadata": {},
   "outputs": [],
   "source": [
    "%matplotlib notebook"
   ]
  },
  {
   "cell_type": "markdown",
   "metadata": {},
   "source": [
    "## 2. Entrada dos parâmetros\n",
    "\n",
    "Nesta segunda etapa, devem ser escolhidos os parâmetros que determinarão qual(is) variáveis, região(ões) e estatística(s) serão utilizados para a plotagem do tipo de gráfico escolhido na etapa anterior.\n",
    "\n",
    "Na célula abaixo, estão sendo selecionados os parâmetros vars=[\"VVEL-850\"], reg=[\"hs\"], stat=[\"ACOR\"], hsin=[\"00\"] e as previsões de 24, 48 e 72 horas (o comando \"np.arange(24,96,24)\", cria um array com estes valores). Isso significa que a variável \"VVEL-850\" (ou seja, a componente meridional do vento horizontal em 850 hPa) sobre a região \"hs\" (isto é, a região hemisfério sul), com a estatítica \"ACOR\" (isto é, correlação de anomalia), do horário sinótico das 00Z e das previsões indicadas. A variável \"base_path\" aponta para o caminho onde encontam-se as tabelas do SCANTEC. Você deverá ajustar este caminho para o seu caso. Observe que o nome da variável escolhida reflete o nome da coluna correspondente da tabela \"ACOR\\*T.scam\" do SCANTEC."
   ]
  },
  {
   "cell_type": "code",
   "execution_count": null,
   "metadata": {},
   "outputs": [],
   "source": [
    "# Datas de início e fim\n",
    "start_dt = date(2015,5,1)\n",
    "end_dt = date(2015,5,31)\n",
    "\n",
    "# Escolha das variáveis (em listas)\n",
    "Vars = [\"VVEL-850\"]\n",
    "Regs = [\"hs\"]\n",
    "Stats = [\"ACOR\"]\n",
    "Hsins = [\"00\"]\n",
    "Fcts = np.arange(24,96,24)\n",
    "\n",
    "# Caminho para absoluto para as tabelas\n",
    "base_path = \"./aval_SMG/diario/00Z/\""
   ]
  },
  {
   "cell_type": "markdown",
   "metadata": {},
   "source": [
    "## 3. Plotagem dos gráficos\n",
    "\n",
    "Nesta última etapa, chama-se a funçao definida na primeira etapa, indicando os parâmetros selecionados na etapa anterior."
   ]
  },
  {
   "cell_type": "code",
   "execution_count": null,
   "metadata": {
    "scrolled": false
   },
   "outputs": [],
   "source": [
    "\n",
    "plot_diario(start_dt,end_dt,Vars,Stats,Fcts,Regs,Hsins,base_path)\n"
   ]
  }
 ],
 "metadata": {
  "kernelspec": {
   "display_name": "Python 3",
   "language": "python",
   "name": "python3"
  },
  "language_info": {
   "codemirror_mode": {
    "name": "ipython",
    "version": 3
   },
   "file_extension": ".py",
   "mimetype": "text/x-python",
   "name": "python",
   "nbconvert_exporter": "python",
   "pygments_lexer": "ipython3",
   "version": "3.6.8"
  }
 },
 "nbformat": 4,
 "nbformat_minor": 2
}
