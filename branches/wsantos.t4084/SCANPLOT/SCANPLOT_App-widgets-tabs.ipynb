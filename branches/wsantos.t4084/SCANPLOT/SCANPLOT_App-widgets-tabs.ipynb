{
 "cells": [
  {
   "cell_type": "code",
   "execution_count": 15,
   "metadata": {},
   "outputs": [],
   "source": [
    "import os\n",
    "from matplotlib import pylab\n",
    "import ipywidgets as widgets\n",
    "from ipywidgets import interact, GridspecLayout, HBox, VBox, Layout\n",
    "from IPython.display import display, clear_output, Image\n",
    "\n",
    "from scanplot_mensal_jn import *\n",
    "from scanplot_diario_jn import *"
   ]
  },
  {
   "cell_type": "code",
   "execution_count": 16,
   "metadata": {},
   "outputs": [],
   "source": [
    "%matplotlib inline\n",
    "#inline, qt, notebook, widget\n",
    "pylab.rcParams['figure.figsize'] = (15,5)"
   ]
  },
  {
   "cell_type": "code",
   "execution_count": 17,
   "metadata": {},
   "outputs": [],
   "source": [
    "# Caminho para absoluto para as tabelas\n",
    "base_path_diario = \"./aval_SMG/diario/00Z/\"\n",
    "base_path_mensal = \"./aval_SMG/mensal/00Z/\""
   ]
  },
  {
   "cell_type": "code",
   "execution_count": 112,
   "metadata": {},
   "outputs": [],
   "source": [
    "#bstyle = widgets.Button(layout=Layout(width='90%', height='40px'))\n",
    "#dpstyle = widgets.DatePicker(layout=Layout(width='90%', height='40px'))\n",
    "#smstyle = widgets.SelectMultiple(layout=Layout(width='90%', height='150px'))\n",
    "\n",
    "#style = widgets.SelectMultiple(layout=Layout(width='auto', height='auto'))\n",
    "\n",
    "dataInicial = widgets.DatePicker(\n",
    "    description='Data inicial:',\n",
    "#    layout=style.layout,\n",
    "    value=pd.to_datetime('2015-05-02'),\n",
    "    layout={'width': 'auto'},    \n",
    "    disabled=False\n",
    ")\n",
    "\n",
    "dataFinal = widgets.DatePicker(\n",
    "    description='Data final:',\n",
    "#    layout=style.layout,\n",
    "    value=pd.to_datetime('2015-05-31'),\n",
    "    layout={'width': 'auto'},    \n",
    "    disabled=False\n",
    ")\n",
    "\n",
    "Vars = widgets.SelectMultiple(\n",
    "    options=['VTMP-925', 'VTMP-850', 'VTMP-500', \n",
    "             'TEMP-850', 'TEMP-500', 'TEMP-250',\n",
    "             'PSNM-000', 'UMES-925', 'UMES-850',\n",
    "             'UMES-500', 'AGPL-925', 'ZGEO-850',\n",
    "             'ZGEO-500', 'ZGEO-250', 'UVEL-850',\n",
    "             'UVEL-500', 'UVEL-250', 'VVEL-850',\n",
    "             'VVEL-500', 'VVEL-250', 'PREC-000',\n",
    "             'PREV-000'],\n",
    "    value=['VTMP-925'],\n",
    "#    layout=style.layout,\n",
    "    layout={'width': 'auto'},    \n",
    "    description='Variável(is) e Nível(is):',\n",
    "    disabled=False\n",
    ")\n",
    "\n",
    "Regs = widgets.SelectMultiple(\n",
    "    options=['hn', 'tr', 'hs', 'gl', 'as'],\n",
    "    value=['hn'],\n",
    "#    layout=style.layout,    \n",
    "    layout={'width': 'auto'},    \n",
    "    description='Região(ões):',\n",
    "    disabled=False\n",
    ")\n",
    "\n",
    "Stats = widgets.SelectMultiple(\n",
    "    options=['ACOR', 'RMSE', 'MAE', 'VIES'],\n",
    "    value=['ACOR'],\n",
    "#    layout=style.layout,    \n",
    "    layout={'width': 'auto'}, \n",
    "    description='Estatística(s):',\n",
    "    disabled=False\n",
    ")\n",
    "\n",
    "Hsins = widgets.SelectMultiple(\n",
    "    options=['00', '06', '12', '18'],\n",
    "    value=['00'],\n",
    "#    layout=style.layout,    \n",
    "    layout={'width': 'auto'},    \n",
    "    description='Horário(s):',\n",
    "    disabled=False\n",
    ")\n",
    "\n",
    "Fcts = widgets.IntRangeSlider(\n",
    "    value=[24,24],\n",
    "    min=24,\n",
    "    max=72,\n",
    "    step=24,\n",
    "    description='Previsão(ões):',\n",
    "    disabled=False,\n",
    "    continuous_update=False,\n",
    "    orientation='horizontal',\n",
    "    readout=True,\n",
    "    readout_format='d',\n",
    ")\n",
    "\n",
    "Tipo = widgets.Dropdown(\n",
    "    options=['mensal', 'diario', 'scorecard', 'dtaylor'],\n",
    "    value='mensal',\n",
    "#    layout=style.layout,  \n",
    "    layout={'width': 'auto'},\n",
    "    description='Tipo:',\n",
    ")\n",
    "\n",
    "Plotar = widgets.Button(\n",
    "    description='Plotar',\n",
    "#    layout=style.layout,\n",
    "    disabled=False,\n",
    "    button_style='success', # 'success', 'info', 'warning', 'danger' or ''\n",
    "    tooltip='Clique para executar',\n",
    "    icon='' # (FontAwesome names without the `fa-` prefix) https://fontawesome.com/icons\n",
    ")\n",
    "\n",
    "file = open(\"img/logo_scantec.png\", \"rb\")\n",
    "image = file.read()\n",
    "ScantecLogo = widgets.Image(\n",
    "    value=image,\n",
    "    format='png',\n",
    "    width=180,\n",
    "    height=180,\n",
    ")\n",
    "\n",
    "CaixaTexto = widgets.HTML(\n",
    "    value=\"Ajuste as opções a seguir e clique no botar Plotar para gerar a(s) figura(s). Lorem ipsum dolor sit amet, consectetur adipiscing elit. Nulla egestas ac velit sit amet porta. Nunc turpis turpis, mollis porta ullamcorper ut, posuere in metus. Vestibulum convallis enim ut lacus maximus rhoncus. Sed orci ex, sollicitudin quis tortor vel, ultrices blandit enim. Sed lobortis egestas erat, sit amet sollicitudin massa ultrices quis. Vestibulum posuere risus ac fringilla varius. Sed eu dictum orci, nec gravida mauris. In vulputate blandit sollicitudin. Curabitur vehicula risus eu bibendum egestas. Morbi non scelerisque leo. Cras tincidunt dapibus iaculis.\",\n",
    "    placeholder='Some HTML',\n",
    "    description='',\n",
    ")\n",
    "\n",
    "out = widgets.Output()\n",
    "\n",
    "def on_button_clicked(b):\n",
    "    Plotar.description = 'Plotar'\n",
    "    Plotar.button_style='success'\n",
    "    with out:\n",
    "        clear_output()\n",
    "        if (Tipo.value == 'mensal'):\n",
    "            plot_mensal(dataInicial.value.day,dataFinal.value.day,dataInicial.value.month,\n",
    "                        dataInicial.value.year,Vars.value,Stats.value,Regs.value,Hsins.value,base_path_mensal)\n",
    "        elif (Tipo.value == 'diario'):  \n",
    "            #print(Fcts.value)\n",
    "            #print(np.arange(Fcts.value[0],Fcts.value[1]+24,24))\n",
    "            Fcts.array = np.arange(Fcts.value[0],Fcts.value[1]+24,24)\n",
    "            plot_diario(dataInicial.value.day,dataFinal.value.day,dataInicial.value.month,\n",
    "                        dataInicial.value.year,Vars.value,Stats.value,Fcts.array,\n",
    "                        Regs.value,Hsins.value,base_path_diario)\n",
    "        else:\n",
    "            print('Tipo não disponível!')\n",
    "\n",
    "Plotar.on_click(on_button_clicked)"
   ]
  },
  {
   "cell_type": "code",
   "execution_count": 113,
   "metadata": {},
   "outputs": [],
   "source": [
    "box_layout1 = Layout(display='flex',\n",
    "                    flex_flow='column',\n",
    "                    align_items='stretch',\n",
    "                    border='1px dotted #FF0000',\n",
    "                    padding='10px',\n",
    "                    margin='5px', \n",
    "                    width='50%')\n",
    "\n",
    "box_layout2 = Layout(display='flex',\n",
    "                    flex_flow='column',\n",
    "                    align_items='stretch',\n",
    "                    border='1px dashed #0000FF',\n",
    "                    padding='10px',\n",
    "                    margin='5px',\n",
    "                    width='50%')"
   ]
  },
  {
   "cell_type": "code",
   "execution_count": 116,
   "metadata": {
    "scrolled": false
   },
   "outputs": [
    {
     "data": {
      "application/vnd.jupyter.widget-view+json": {
       "model_id": "4da2632c0f7d49deb496369379f16514",
       "version_major": 2,
       "version_minor": 0
      },
      "text/plain": [
       "VBox(children=(Tab(children=(HBox(children=(VBox(children=(Image(value=b'\\x89PNG\\r\\n\\x1a\\n\\x00\\x00\\x00\\rIHDR\\x…"
      ]
     },
     "metadata": {},
     "output_type": "display_data"
    }
   ],
   "source": [
    "left_box = VBox(children=[ScantecLogo,CaixaTexto],layout=box_layout1)\n",
    "right_box = VBox(children=[dataInicial,dataFinal,Stats,Fcts,Vars,Regs,Hsins,Tipo],layout=box_layout2)\n",
    "tab1 = HBox(children=[left_box, right_box])\n",
    "tab2 = VBox(children=[widgets.VBox([out])])\n",
    "\n",
    "tab = widgets.Tab(children=[tab1, tab2])\n",
    "tab.set_title(0, 'Opções')\n",
    "tab.set_title(1, 'Figura')\n",
    "VBox(children=[tab, widgets.VBox([Plotar])])"
   ]
  },
  {
   "cell_type": "code",
   "execution_count": 115,
   "metadata": {},
   "outputs": [
    {
     "data": {
      "application/vnd.jupyter.widget-view+json": {
       "model_id": "42593f7c6b3541cb9fe13b98a277c84a",
       "version_major": 2,
       "version_minor": 0
      },
      "text/plain": [
       "VBox(children=(Tab(children=(HBox(children=(VBox(children=(Image(value=b'\\x89PNG\\r\\n\\x1a\\n\\x00\\x00\\x00\\rIHDR\\x…"
      ]
     },
     "metadata": {},
     "output_type": "display_data"
    }
   ],
   "source": [
    "left_box = VBox(children=[ScantecLogo,CaixaTexto],layout=box_layout1)\n",
    "right_box = VBox(children=[dataInicial,dataFinal,Stats,Fcts,Vars,Regs,Hsins,Tipo],layout=box_layout2)\n",
    "tab1 = HBox(children=[left_box, right_box])\n",
    "tab2 = VBox(children=[widgets.VBox([out])])\n",
    "tab3 = VBox(children=[widgets.VBox([out])])\n",
    "tab4 = VBox(children=[widgets.VBox([out])])\n",
    "tab5 = VBox(children=[widgets.VBox([out])])\n",
    "\n",
    "tab = widgets.Tab(children=[tab1, tab2, tab3, tab4, tab5])\n",
    "tab.set_title(0, 'Opções')\n",
    "tab.set_title(1, 'Linha (Mensal)')\n",
    "tab.set_title(2, 'Linha (Diário)')\n",
    "tab.set_title(3, 'Scorecard')\n",
    "tab.set_title(4, 'Diagrama de Taylor')\n",
    "VBox(children=[tab, widgets.VBox([Plotar])])"
   ]
  }
 ],
 "metadata": {
  "kernelspec": {
   "display_name": "Python 3",
   "language": "python",
   "name": "python3"
  },
  "language_info": {
   "codemirror_mode": {
    "name": "ipython",
    "version": 3
   },
   "file_extension": ".py",
   "mimetype": "text/x-python",
   "name": "python",
   "nbconvert_exporter": "python",
   "pygments_lexer": "ipython3",
   "version": "3.8.2"
  },
  "widgets": {
   "application/vnd.jupyter.widget-state+json": {
    "state": {
     "020a2367eee54cf6853d02909127fd10": {
      "model_module": "@jupyter-widgets/controls",
      "model_module_version": "1.5.0",
      "model_name": "DatePickerModel",
      "state": {
       "description": "Data final:",
       "disabled": false,
       "layout": "IPY_MODEL_0531eb8abc2a4274857c4d1b6903b99d",
       "style": "IPY_MODEL_f060366f307f4b6daf2059459825419a",
       "value": {
        "date": 31,
        "month": 4,
        "year": 2015
       }
      }
     },
     "0278f7fd952849deacb02984c3f7766f": {
      "model_module": "@jupyter-widgets/base",
      "model_module_version": "1.2.0",
      "model_name": "LayoutModel",
      "state": {
       "grid_area": "widget003"
      }
     },
     "04fc04af77a5434b9138c1988b1931fc": {
      "model_module": "@jupyter-widgets/controls",
      "model_module_version": "1.5.0",
      "model_name": "VBoxModel",
      "state": {
       "children": [
        "IPY_MODEL_86489aa50f9c4f8fa2019880e54203a9"
       ],
       "layout": "IPY_MODEL_af700958f8294b73b4c095c62314ffe0"
      }
     },
     "0531eb8abc2a4274857c4d1b6903b99d": {
      "model_module": "@jupyter-widgets/base",
      "model_module_version": "1.2.0",
      "model_name": "LayoutModel",
      "state": {
       "grid_area": "widget002"
      }
     },
     "0561230bac614c438f34ff9ca39b55fb": {
      "model_module": "@jupyter-widgets/controls",
      "model_module_version": "1.5.0",
      "model_name": "DescriptionStyleModel",
      "state": {
       "description_width": ""
      }
     },
     "078cce55574449bdac0eebabe7a4ad17": {
      "model_module": "@jupyter-widgets/controls",
      "model_module_version": "1.5.0",
      "model_name": "DescriptionStyleModel",
      "state": {
       "description_width": ""
      }
     },
     "0ad4960c7b0b48a6aed8ab44702058a9": {
      "model_module": "@jupyter-widgets/output",
      "model_module_version": "1.0.0",
      "model_name": "OutputModel",
      "state": {
       "layout": "IPY_MODEL_0ecdeff613034c798800afedb5884bcf",
       "outputs": [
        {
         "name": "stdout",
         "output_type": "stream",
         "text": "\n\n\n\n\nfigura: output/mensal/HN/ACOR_MENSAL_VTMP-925_HN_0205201500_3105201500.png\n"
        },
        {
         "data": {
          "image/png": "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\n",
          "text/plain": "<Figure size 1080x360 with 1 Axes>"
         },
         "metadata": {},
         "output_type": "display_data"
        }
       ]
      }
     },
     "0ecdeff613034c798800afedb5884bcf": {
      "model_module": "@jupyter-widgets/base",
      "model_module_version": "1.2.0",
      "model_name": "LayoutModel",
      "state": {}
     },
     "103f96ef025b46cab43ca40dd7bdaa3a": {
      "model_module": "@jupyter-widgets/base",
      "model_module_version": "1.2.0",
      "model_name": "LayoutModel",
      "state": {
       "grid_template_areas": "\"widget001 widget003\"\n\"widget002 widget004\"\n\"widget005 widget006\"\n\"widget007 widget008\"\n\"widget009 widget009\"\n\". .\"\n\". .\"\n\". .\"",
       "grid_template_columns": "repeat(2, 1fr)",
       "grid_template_rows": "repeat(8, 1fr)",
       "height": "auto"
      }
     },
     "10ef863837e74701a7f5600e4b61822c": {
      "model_module": "@jupyter-widgets/base",
      "model_module_version": "1.2.0",
      "model_name": "LayoutModel",
      "state": {
       "grid_area": "widget004"
      }
     },
     "1a13068de2d74a5380d7bf1aab00cd53": {
      "model_module": "@jupyter-widgets/controls",
      "model_module_version": "1.5.0",
      "model_name": "DatePickerModel",
      "state": {
       "description": "Data final:",
       "disabled": false,
       "layout": "IPY_MODEL_80ae18c118ed4f4bbcf59abc6b534c3f",
       "style": "IPY_MODEL_92f18c35b58b47d0a08d3702085c1620",
       "value": {
        "date": 31,
        "month": 4,
        "year": 2015
       }
      }
     },
     "1b5f9c7609384cfdb9332e6f9cc44c7d": {
      "model_module": "@jupyter-widgets/base",
      "model_module_version": "1.2.0",
      "model_name": "LayoutModel",
      "state": {
       "grid_area": "widget009"
      }
     },
     "25222f97d682443a9a94fc1d08ffaf55": {
      "model_module": "@jupyter-widgets/base",
      "model_module_version": "1.2.0",
      "model_name": "LayoutModel",
      "state": {
       "grid_area": "widget007",
       "height": "auto",
       "width": "auto"
      }
     },
     "28408a0eb08943b1ba5a2b301482def6": {
      "model_module": "@jupyter-widgets/base",
      "model_module_version": "1.2.0",
      "model_name": "LayoutModel",
      "state": {
       "grid_area": "widget007"
      }
     },
     "28b83a69f94544e1bf36bba0bca93b0e": {
      "model_module": "@jupyter-widgets/controls",
      "model_module_version": "1.5.0",
      "model_name": "VBoxModel",
      "state": {
       "children": [
        "IPY_MODEL_0ad4960c7b0b48a6aed8ab44702058a9"
       ],
       "layout": "IPY_MODEL_ca68cd1e06a647a09f215df3e3ca8c74"
      }
     },
     "28ce364933e642cf85454c7af7496ba3": {
      "model_module": "@jupyter-widgets/controls",
      "model_module_version": "1.5.0",
      "model_name": "ButtonStyleModel",
      "state": {}
     },
     "2a0bf731f66b4bb3a30c6802f923adc8": {
      "model_module": "@jupyter-widgets/controls",
      "model_module_version": "1.5.0",
      "model_name": "SelectMultipleModel",
      "state": {
       "_options_labels": [
        "hn",
        "tr",
        "hs",
        "gl",
        "as"
       ],
       "description": "Região(ões):",
       "index": [
        0
       ],
       "layout": "IPY_MODEL_baa5e50f74874d1a957f196b8cf38375",
       "rows": 5,
       "style": "IPY_MODEL_3b3c3f9faa444811b8c899f4a6e99d69"
      }
     },
     "2a72b8941cb74887992c4126c14ef80f": {
      "model_module": "@jupyter-widgets/controls",
      "model_module_version": "1.5.0",
      "model_name": "SelectMultipleModel",
      "state": {
       "_options_labels": [
        "ACOR",
        "RMSE",
        "MAE",
        "VIES"
       ],
       "description": "Estatística(s):",
       "index": [
        0
       ],
       "layout": "IPY_MODEL_b98f6fec6d4845b786d3d9f709fe6bfe",
       "rows": 5,
       "style": "IPY_MODEL_98fe7172f60d40d28fe7ba5e1aa14109"
      }
     },
     "2ed2856254db4b9f8208ef4047944a82": {
      "model_module": "@jupyter-widgets/controls",
      "model_module_version": "1.5.0",
      "model_name": "GridBoxModel",
      "state": {
       "children": [
        "IPY_MODEL_5c163dcf684443bcb8e576b4d19afdf7",
        "IPY_MODEL_89ba3cf04b4c47febde1ebbdd8172a16",
        "IPY_MODEL_c093952bd7184e429b108edb08827166",
        "IPY_MODEL_472de38909e34fb88e043b63d30a958b",
        "IPY_MODEL_f00c1dacb9dc420ab900d6e2c34a5599",
        "IPY_MODEL_2a0bf731f66b4bb3a30c6802f923adc8",
        "IPY_MODEL_4ded0e23e1734aab81b3d2da7a3350b3",
        "IPY_MODEL_62ccba1e8f454bfab4670a20eb09ef50",
        "IPY_MODEL_fb7b617fb42c413e924ff108fb1003f6"
       ],
       "layout": "IPY_MODEL_9fbdd53e9f094475805df50106ffcdcd"
      }
     },
     "2ed74d5472374adea37a8585784271fa": {
      "model_module": "@jupyter-widgets/controls",
      "model_module_version": "1.5.0",
      "model_name": "DescriptionStyleModel",
      "state": {
       "description_width": ""
      }
     },
     "2ff0ec95b26b47d5b39a547aa5f59241": {
      "model_module": "@jupyter-widgets/controls",
      "model_module_version": "1.5.0",
      "model_name": "SelectMultipleModel",
      "state": {
       "_options_labels": [
        "ACOR",
        "RMSE",
        "MAE",
        "VIES"
       ],
       "description": "Estatística(s):",
       "index": [
        0
       ],
       "layout": "IPY_MODEL_cf472f39a704491299cfcabe592be223",
       "rows": 5,
       "style": "IPY_MODEL_3af69957b04a417e979ca0ea2eb892cd"
      }
     },
     "37b8d29490554c119847ca937d6dfcf8": {
      "model_module": "@jupyter-widgets/controls",
      "model_module_version": "1.5.0",
      "model_name": "ButtonStyleModel",
      "state": {}
     },
     "38149778f6224ad68a285b7d9ef0ccc3": {
      "model_module": "@jupyter-widgets/controls",
      "model_module_version": "1.5.0",
      "model_name": "GridBoxModel",
      "state": {
       "children": [
        "IPY_MODEL_77c54acccbef4172b0c6f7bc164952ed",
        "IPY_MODEL_1a13068de2d74a5380d7bf1aab00cd53",
        "IPY_MODEL_2a72b8941cb74887992c4126c14ef80f",
        "IPY_MODEL_a72d70d12b4a4c70a769a18d3ac1a443",
        "IPY_MODEL_41cd431799f143868293d59c72439b18",
        "IPY_MODEL_a9def343eb824672b5e75f4ba8434b4e",
        "IPY_MODEL_e2167a1c784948169b4b45708ed28a66",
        "IPY_MODEL_04fc04af77a5434b9138c1988b1931fc",
        "IPY_MODEL_28b83a69f94544e1bf36bba0bca93b0e"
       ],
       "layout": "IPY_MODEL_abaea3cf25b846348f196ea57eea389b"
      }
     },
     "3952bdcbb061446cbc3a283bdd977cba": {
      "model_module": "@jupyter-widgets/controls",
      "model_module_version": "1.5.0",
      "model_name": "SelectMultipleModel",
      "state": {
       "index": [],
       "layout": "IPY_MODEL_e98bdd17e1084addbc836bf583d362e4",
       "rows": 5,
       "style": "IPY_MODEL_664c1a739fe949008ee865014ceb3f61"
      }
     },
     "39c1fdc251bd4230bb1e072c033d85fa": {
      "model_module": "@jupyter-widgets/controls",
      "model_module_version": "1.5.0",
      "model_name": "DropdownModel",
      "state": {
       "_options_labels": [
        "24",
        "48",
        "72",
        "96"
       ],
       "description": "Previsão(ões):",
       "index": 0,
       "layout": "IPY_MODEL_25222f97d682443a9a94fc1d08ffaf55",
       "style": "IPY_MODEL_681c0c60670b4e2394cb8ba6922ee0ab"
      }
     },
     "3af69957b04a417e979ca0ea2eb892cd": {
      "model_module": "@jupyter-widgets/controls",
      "model_module_version": "1.5.0",
      "model_name": "DescriptionStyleModel",
      "state": {
       "description_width": ""
      }
     },
     "3b3c3f9faa444811b8c899f4a6e99d69": {
      "model_module": "@jupyter-widgets/controls",
      "model_module_version": "1.5.0",
      "model_name": "DescriptionStyleModel",
      "state": {
       "description_width": ""
      }
     },
     "41cd431799f143868293d59c72439b18": {
      "model_module": "@jupyter-widgets/controls",
      "model_module_version": "1.5.0",
      "model_name": "SelectMultipleModel",
      "state": {
       "_options_labels": [
        "VTMP-925",
        "VTMP-850",
        "VTMP-500",
        "TEMP-850",
        "TEMP-500",
        "TEMP-250",
        "PSNM-000",
        "UMES-925",
        "UMES-850",
        "UMES-500",
        "AGPL-925",
        "ZGEO-850",
        "ZGEO-500",
        "ZGEO-250",
        "UVEL-850",
        "UVEL-500",
        "UVEL-250",
        "VVEL-850",
        "VVEL-500",
        "VVEL-250",
        "PREC-000",
        "PREV-000"
       ],
       "description": "Variável(is) e Nível(is):",
       "index": [
        0
       ],
       "layout": "IPY_MODEL_bf7a239a87d64a8a8e35a7a157d9b63e",
       "rows": 5,
       "style": "IPY_MODEL_9743435bc5f74273948fd3344a3da60e"
      }
     },
     "42e7ad3ab2624d7ab00b958927072791": {
      "model_module": "@jupyter-widgets/base",
      "model_module_version": "1.2.0",
      "model_name": "LayoutModel",
      "state": {
       "grid_area": "widget001"
      }
     },
     "472de38909e34fb88e043b63d30a958b": {
      "model_module": "@jupyter-widgets/controls",
      "model_module_version": "1.5.0",
      "model_name": "DropdownModel",
      "state": {
       "_options_labels": [
        "24",
        "48",
        "72",
        "96"
       ],
       "description": "Previsão(ões):",
       "index": 0,
       "layout": "IPY_MODEL_10ef863837e74701a7f5600e4b61822c",
       "style": "IPY_MODEL_c9653701266940f091f8256b29829298"
      }
     },
     "47b758ede03d4b63ab5d86ccf57c872c": {
      "model_module": "@jupyter-widgets/controls",
      "model_module_version": "1.5.0",
      "model_name": "SelectMultipleModel",
      "state": {
       "_options_labels": [
        "00",
        "06",
        "12",
        "18"
       ],
       "description": "Horário(s):",
       "index": [
        0
       ],
       "layout": "IPY_MODEL_25222f97d682443a9a94fc1d08ffaf55",
       "rows": 5,
       "style": "IPY_MODEL_a671df13457b4d6490ccff6bb8801919"
      }
     },
     "47c671d0a69441d0b0b095fa342d2c70": {
      "model_module": "@jupyter-widgets/controls",
      "model_module_version": "1.5.0",
      "model_name": "DescriptionStyleModel",
      "state": {
       "description_width": ""
      }
     },
     "48bdf99253e04e9dbad68e8012daa4bf": {
      "model_module": "@jupyter-widgets/base",
      "model_module_version": "1.2.0",
      "model_name": "LayoutModel",
      "state": {
       "grid_area": "widget009"
      }
     },
     "4911dad435bd49f78eb979c994705b3d": {
      "model_module": "@jupyter-widgets/controls",
      "model_module_version": "1.5.0",
      "model_name": "DescriptionStyleModel",
      "state": {
       "description_width": ""
      }
     },
     "4ded0e23e1734aab81b3d2da7a3350b3": {
      "model_module": "@jupyter-widgets/controls",
      "model_module_version": "1.5.0",
      "model_name": "SelectMultipleModel",
      "state": {
       "_options_labels": [
        "00",
        "06",
        "12",
        "18"
       ],
       "description": "Horário(s):",
       "index": [
        0
       ],
       "layout": "IPY_MODEL_cd2afd09f364440ab59b0c59cd7ad6be",
       "rows": 5,
       "style": "IPY_MODEL_89970eb3b6a34e299a0cdc6ae7f62382"
      }
     },
     "51d774fbde5a4981ad5f4cc29124a81f": {
      "model_module": "@jupyter-widgets/controls",
      "model_module_version": "1.5.0",
      "model_name": "DescriptionStyleModel",
      "state": {
       "description_width": ""
      }
     },
     "52d4b50583fb4fbd9d70d3bd041b4f1f": {
      "model_module": "@jupyter-widgets/base",
      "model_module_version": "1.2.0",
      "model_name": "LayoutModel",
      "state": {
       "grid_template_areas": "\"widget001 widget003\"\n\"widget002 widget004\"\n\"widget005 widget006\"\n\"widget007 widget008\"\n\"widget009 widget009\"\n\". .\"\n\". .\"\n\". .\"\n\". .\"",
       "grid_template_columns": "repeat(2, 1fr)",
       "grid_template_rows": "repeat(9, 1fr)"
      }
     },
     "55ca8d95576d4470946d2c7d125aedfb": {
      "model_module": "@jupyter-widgets/base",
      "model_module_version": "1.2.0",
      "model_name": "LayoutModel",
      "state": {
       "grid_area": "widget006"
      }
     },
     "56227eab53d24e6181138bed6d64439f": {
      "model_module": "@jupyter-widgets/base",
      "model_module_version": "1.2.0",
      "model_name": "LayoutModel",
      "state": {
       "grid_area": "widget005"
      }
     },
     "57e00649a0944e0485baf595423313db": {
      "model_module": "@jupyter-widgets/base",
      "model_module_version": "1.2.0",
      "model_name": "LayoutModel",
      "state": {
       "grid_area": "widget009"
      }
     },
     "5b68995440d14cdd99c165395dff822a": {
      "model_module": "@jupyter-widgets/controls",
      "model_module_version": "1.5.0",
      "model_name": "VBoxModel",
      "state": {
       "children": [
        "IPY_MODEL_0ad4960c7b0b48a6aed8ab44702058a9"
       ],
       "layout": "IPY_MODEL_57e00649a0944e0485baf595423313db"
      }
     },
     "5c163dcf684443bcb8e576b4d19afdf7": {
      "model_module": "@jupyter-widgets/controls",
      "model_module_version": "1.5.0",
      "model_name": "DatePickerModel",
      "state": {
       "description": "Data inicial:",
       "disabled": false,
       "layout": "IPY_MODEL_650d10b048054989b5dbc4a5747e4b26",
       "style": "IPY_MODEL_c3d7b9bfb8a44700832fd578b939dc20",
       "value": {
        "date": 2,
        "month": 4,
        "year": 2015
       }
      }
     },
     "616891a378e942c1b19b87fac42f8905": {
      "model_module": "@jupyter-widgets/controls",
      "model_module_version": "1.5.0",
      "model_name": "SelectMultipleModel",
      "state": {
       "_options_labels": [
        "ACOR",
        "RMSE",
        "MAE",
        "VIES"
       ],
       "description": "Estatística(s):",
       "index": [
        0
       ],
       "layout": "IPY_MODEL_25222f97d682443a9a94fc1d08ffaf55",
       "rows": 5,
       "style": "IPY_MODEL_642b81e4ba014e1a8a114b27f640f060"
      }
     },
     "62ccba1e8f454bfab4670a20eb09ef50": {
      "model_module": "@jupyter-widgets/controls",
      "model_module_version": "1.5.0",
      "model_name": "VBoxModel",
      "state": {
       "children": [
        "IPY_MODEL_f0e882075dff4081b6eca68553b31db6"
       ],
       "layout": "IPY_MODEL_f9e8988b4bb64a29b14072745aef939d"
      }
     },
     "62d08e8f2c654f0084b7cdd26ad39f03": {
      "model_module": "@jupyter-widgets/base",
      "model_module_version": "1.2.0",
      "model_name": "LayoutModel",
      "state": {
       "grid_area": "widget002"
      }
     },
     "631b2d52accc4fb6bdf12f8b5927424b": {
      "model_module": "@jupyter-widgets/controls",
      "model_module_version": "1.5.0",
      "model_name": "DescriptionStyleModel",
      "state": {
       "description_width": ""
      }
     },
     "642b81e4ba014e1a8a114b27f640f060": {
      "model_module": "@jupyter-widgets/controls",
      "model_module_version": "1.5.0",
      "model_name": "DescriptionStyleModel",
      "state": {
       "description_width": ""
      }
     },
     "64c2fdd6b0044e048238bb5bb92ff7c9": {
      "model_module": "@jupyter-widgets/controls",
      "model_module_version": "1.5.0",
      "model_name": "DatePickerModel",
      "state": {
       "description": "Data final:",
       "disabled": false,
       "layout": "IPY_MODEL_25222f97d682443a9a94fc1d08ffaf55",
       "style": "IPY_MODEL_e5f0bf339d0c45f695c917acb04902da",
       "value": {
        "date": 31,
        "month": 4,
        "year": 2015
       }
      }
     },
     "64db3c363ec3452694bed3d3aaf8bc32": {
      "model_module": "@jupyter-widgets/base",
      "model_module_version": "1.2.0",
      "model_name": "LayoutModel",
      "state": {
       "height": "auto",
       "width": "auto"
      }
     },
     "650d10b048054989b5dbc4a5747e4b26": {
      "model_module": "@jupyter-widgets/base",
      "model_module_version": "1.2.0",
      "model_name": "LayoutModel",
      "state": {
       "grid_area": "widget001"
      }
     },
     "664c1a739fe949008ee865014ceb3f61": {
      "model_module": "@jupyter-widgets/controls",
      "model_module_version": "1.5.0",
      "model_name": "DescriptionStyleModel",
      "state": {
       "description_width": ""
      }
     },
     "681c0c60670b4e2394cb8ba6922ee0ab": {
      "model_module": "@jupyter-widgets/controls",
      "model_module_version": "1.5.0",
      "model_name": "DescriptionStyleModel",
      "state": {
       "description_width": ""
      }
     },
     "693fb8c48b5f4cee84f719f172bc3211": {
      "model_module": "@jupyter-widgets/base",
      "model_module_version": "1.2.0",
      "model_name": "LayoutModel",
      "state": {
       "grid_area": "widget009"
      }
     },
     "6b0d8bb63e8c4c7f895fca88d138f277": {
      "model_module": "@jupyter-widgets/base",
      "model_module_version": "1.2.0",
      "model_name": "LayoutModel",
      "state": {
       "grid_area": "widget008"
      }
     },
     "6d436539ca144923bbc1835e204a151a": {
      "model_module": "@jupyter-widgets/controls",
      "model_module_version": "1.5.0",
      "model_name": "DropdownModel",
      "state": {
       "_options_labels": [
        "24",
        "48",
        "72",
        "96"
       ],
       "description": "Previsão(ões):",
       "index": 0,
       "layout": "IPY_MODEL_b11635c4f2a2406e8bce935caae56ed2",
       "style": "IPY_MODEL_0561230bac614c438f34ff9ca39b55fb"
      }
     },
     "6ec95d65db894e15812829f0f5923ba8": {
      "model_module": "@jupyter-widgets/controls",
      "model_module_version": "1.5.0",
      "model_name": "DescriptionStyleModel",
      "state": {
       "description_width": ""
      }
     },
     "70727f51fefe4c9f8a08b00baabc3f26": {
      "model_module": "@jupyter-widgets/controls",
      "model_module_version": "1.5.0",
      "model_name": "DescriptionStyleModel",
      "state": {
       "description_width": ""
      }
     },
     "737050f803fe43aeb472dacc492b3ee4": {
      "model_module": "@jupyter-widgets/output",
      "model_module_version": "1.0.0",
      "model_name": "OutputModel",
      "state": {
       "layout": "IPY_MODEL_bc232233acf147f985d5790acba2f6de",
       "outputs": [
        {
         "name": "stdout",
         "output_type": "stream",
         "text": "\n\n\n\n\nfigura: output/mensal/HN/ACOR_MENSAL_VTMP-925_HN_0205201500_3105201500.png\n"
        },
        {
         "data": {
          "image/png": "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\n",
          "text/plain": "<Figure size 1080x360 with 1 Axes>"
         },
         "metadata": {},
         "output_type": "display_data"
        }
       ]
      }
     },
     "77c54acccbef4172b0c6f7bc164952ed": {
      "model_module": "@jupyter-widgets/controls",
      "model_module_version": "1.5.0",
      "model_name": "DatePickerModel",
      "state": {
       "description": "Data inicial:",
       "disabled": false,
       "layout": "IPY_MODEL_f0953420efdf4724acdae6106b81ba18",
       "style": "IPY_MODEL_8e1101f7224443cfa52ed6c72da0bc9f",
       "value": {
        "date": 2,
        "month": 4,
        "year": 2015
       }
      }
     },
     "79998e676ab3480cbd8f277bcec7416d": {
      "model_module": "@jupyter-widgets/controls",
      "model_module_version": "1.5.0",
      "model_name": "DatePickerModel",
      "state": {
       "description": "Data inicial:",
       "disabled": false,
       "layout": "IPY_MODEL_42e7ad3ab2624d7ab00b958927072791",
       "style": "IPY_MODEL_2ed74d5472374adea37a8585784271fa",
       "value": {
        "date": 2,
        "month": 4,
        "year": 2015
       }
      }
     },
     "7acd47eb3ff544419dad7114c6c5a16d": {
      "model_module": "@jupyter-widgets/base",
      "model_module_version": "1.2.0",
      "model_name": "LayoutModel",
      "state": {}
     },
     "7b88491e8d5b49e69f37f2cf1f8286b1": {
      "model_module": "@jupyter-widgets/controls",
      "model_module_version": "1.5.0",
      "model_name": "DescriptionStyleModel",
      "state": {
       "description_width": ""
      }
     },
     "7d09cde749ea4751b4e55fe069b686b0": {
      "model_module": "@jupyter-widgets/controls",
      "model_module_version": "1.5.0",
      "model_name": "VBoxModel",
      "state": {
       "children": [
        "IPY_MODEL_826cafdd913a4d70bcedd3cafad4bbfc"
       ],
       "layout": "IPY_MODEL_693fb8c48b5f4cee84f719f172bc3211"
      }
     },
     "80ae18c118ed4f4bbcf59abc6b534c3f": {
      "model_module": "@jupyter-widgets/base",
      "model_module_version": "1.2.0",
      "model_name": "LayoutModel",
      "state": {
       "grid_area": "widget002"
      }
     },
     "826cafdd913a4d70bcedd3cafad4bbfc": {
      "model_module": "@jupyter-widgets/output",
      "model_module_version": "1.0.0",
      "model_name": "OutputModel",
      "state": {
       "layout": "IPY_MODEL_f2cfeb0d95864e00a654f4e1cf2b827e",
       "outputs": [
        {
         "name": "stdout",
         "output_type": "stream",
         "text": "\n\n\n\n\nfigura: output/mensal/HN/ACOR_MENSAL_VTMP-925_HN_0205201500_3105201500.png\n"
        },
        {
         "data": {
          "image/png": "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\n",
          "text/plain": "<Figure size 1080x360 with 1 Axes>"
         },
         "metadata": {},
         "output_type": "display_data"
        }
       ]
      }
     },
     "86489aa50f9c4f8fa2019880e54203a9": {
      "model_module": "@jupyter-widgets/controls",
      "model_module_version": "1.5.0",
      "model_name": "ButtonModel",
      "state": {
       "button_style": "info",
       "description": "Plotar Mensal",
       "icon": "chart-line",
       "layout": "IPY_MODEL_a7ef63217e464f4dbd790bc39f7a7521",
       "style": "IPY_MODEL_37b8d29490554c119847ca937d6dfcf8",
       "tooltip": "Clique para executar"
      }
     },
     "8795770837a84638921621c102e0e4d5": {
      "model_module": "@jupyter-widgets/controls",
      "model_module_version": "1.5.0",
      "model_name": "SelectMultipleModel",
      "state": {
       "index": [],
       "layout": "IPY_MODEL_25222f97d682443a9a94fc1d08ffaf55",
       "rows": 5,
       "style": "IPY_MODEL_7b88491e8d5b49e69f37f2cf1f8286b1"
      }
     },
     "89970eb3b6a34e299a0cdc6ae7f62382": {
      "model_module": "@jupyter-widgets/controls",
      "model_module_version": "1.5.0",
      "model_name": "DescriptionStyleModel",
      "state": {
       "description_width": ""
      }
     },
     "89ba3cf04b4c47febde1ebbdd8172a16": {
      "model_module": "@jupyter-widgets/controls",
      "model_module_version": "1.5.0",
      "model_name": "DatePickerModel",
      "state": {
       "description": "Data final:",
       "disabled": false,
       "layout": "IPY_MODEL_62d08e8f2c654f0084b7cdd26ad39f03",
       "style": "IPY_MODEL_9780bbdf9c054da6aae204bc2baef0eb",
       "value": {
        "date": 31,
        "month": 4,
        "year": 2015
       }
      }
     },
     "8e1101f7224443cfa52ed6c72da0bc9f": {
      "model_module": "@jupyter-widgets/controls",
      "model_module_version": "1.5.0",
      "model_name": "DescriptionStyleModel",
      "state": {
       "description_width": ""
      }
     },
     "8e8fe67c77d74c0a9286eff2422d1486": {
      "model_module": "@jupyter-widgets/controls",
      "model_module_version": "1.5.0",
      "model_name": "DescriptionStyleModel",
      "state": {
       "description_width": ""
      }
     },
     "92f18c35b58b47d0a08d3702085c1620": {
      "model_module": "@jupyter-widgets/controls",
      "model_module_version": "1.5.0",
      "model_name": "DescriptionStyleModel",
      "state": {
       "description_width": ""
      }
     },
     "9743435bc5f74273948fd3344a3da60e": {
      "model_module": "@jupyter-widgets/controls",
      "model_module_version": "1.5.0",
      "model_name": "DescriptionStyleModel",
      "state": {
       "description_width": ""
      }
     },
     "9780bbdf9c054da6aae204bc2baef0eb": {
      "model_module": "@jupyter-widgets/controls",
      "model_module_version": "1.5.0",
      "model_name": "DescriptionStyleModel",
      "state": {
       "description_width": ""
      }
     },
     "98fe7172f60d40d28fe7ba5e1aa14109": {
      "model_module": "@jupyter-widgets/controls",
      "model_module_version": "1.5.0",
      "model_name": "DescriptionStyleModel",
      "state": {
       "description_width": ""
      }
     },
     "9a0d1018acf54b2f80fcbe74d8a99e06": {
      "model_module": "@jupyter-widgets/controls",
      "model_module_version": "1.5.0",
      "model_name": "ButtonModel",
      "state": {
       "button_style": "info",
       "description": "Plotar Mensal",
       "icon": "chart-line",
       "layout": "IPY_MODEL_7acd47eb3ff544419dad7114c6c5a16d",
       "style": "IPY_MODEL_fb064f300ff24437a2f82940360ff1b5",
       "tooltip": "Clique para executar"
      }
     },
     "9fbdd53e9f094475805df50106ffcdcd": {
      "model_module": "@jupyter-widgets/base",
      "model_module_version": "1.2.0",
      "model_name": "LayoutModel",
      "state": {
       "grid_template_areas": "\"widget001 widget003\"\n\"widget002 widget004\"\n\"widget005 widget006\"\n\"widget007 widget008\"\n\"widget009 widget009\"\n\". .\"\n\". .\"\n\". .\"",
       "grid_template_columns": "repeat(2, 1fr)",
       "grid_template_rows": "repeat(8, 1fr)"
      }
     },
     "a2d47dc15d86439a9c9e5d6317f34208": {
      "model_module": "@jupyter-widgets/base",
      "model_module_version": "1.2.0",
      "model_name": "LayoutModel",
      "state": {
       "grid_area": "widget004"
      }
     },
     "a3165debdff2441ba8556438d5f5d8f1": {
      "model_module": "@jupyter-widgets/controls",
      "model_module_version": "1.5.0",
      "model_name": "VBoxModel",
      "state": {
       "children": [
        "IPY_MODEL_737050f803fe43aeb472dacc492b3ee4"
       ],
       "layout": "IPY_MODEL_ac09b65435e04cadb4b02435a114b598"
      }
     },
     "a414b532c5c949429150a43b0b50ea41": {
      "model_module": "@jupyter-widgets/controls",
      "model_module_version": "1.5.0",
      "model_name": "DescriptionStyleModel",
      "state": {
       "description_width": ""
      }
     },
     "a4543552431240b8950c9324f435b787": {
      "model_module": "@jupyter-widgets/base",
      "model_module_version": "1.2.0",
      "model_name": "LayoutModel",
      "state": {
       "grid_area": "widget006"
      }
     },
     "a5ef5e3fb79e4ad9b5400842dcdbadd4": {
      "model_module": "@jupyter-widgets/controls",
      "model_module_version": "1.5.0",
      "model_name": "DescriptionStyleModel",
      "state": {
       "description_width": ""
      }
     },
     "a671df13457b4d6490ccff6bb8801919": {
      "model_module": "@jupyter-widgets/controls",
      "model_module_version": "1.5.0",
      "model_name": "DescriptionStyleModel",
      "state": {
       "description_width": ""
      }
     },
     "a6df3cff1cf64c75ae6fa129cd9fcaca": {
      "model_module": "@jupyter-widgets/controls",
      "model_module_version": "1.5.0",
      "model_name": "GridBoxModel",
      "state": {
       "children": [
        "IPY_MODEL_5c163dcf684443bcb8e576b4d19afdf7",
        "IPY_MODEL_89ba3cf04b4c47febde1ebbdd8172a16",
        "IPY_MODEL_c093952bd7184e429b108edb08827166",
        "IPY_MODEL_472de38909e34fb88e043b63d30a958b",
        "IPY_MODEL_f00c1dacb9dc420ab900d6e2c34a5599",
        "IPY_MODEL_2a0bf731f66b4bb3a30c6802f923adc8",
        "IPY_MODEL_4ded0e23e1734aab81b3d2da7a3350b3",
        "IPY_MODEL_b47639f94b45401a8341c0944b190d60",
        "IPY_MODEL_a3165debdff2441ba8556438d5f5d8f1"
       ],
       "layout": "IPY_MODEL_cbb6fa42e5b245a98c2af51483938816"
      }
     },
     "a72d70d12b4a4c70a769a18d3ac1a443": {
      "model_module": "@jupyter-widgets/controls",
      "model_module_version": "1.5.0",
      "model_name": "DropdownModel",
      "state": {
       "_options_labels": [
        "24",
        "48",
        "72",
        "96"
       ],
       "description": "Previsão(ões):",
       "index": 0,
       "layout": "IPY_MODEL_a2d47dc15d86439a9c9e5d6317f34208",
       "style": "IPY_MODEL_4911dad435bd49f78eb979c994705b3d"
      }
     },
     "a734f770cec34852bee84ded9faf6ce7": {
      "model_module": "@jupyter-widgets/base",
      "model_module_version": "1.2.0",
      "model_name": "LayoutModel",
      "state": {}
     },
     "a7bc1151708d48bf95f94ec698963d18": {
      "model_module": "@jupyter-widgets/controls",
      "model_module_version": "1.5.0",
      "model_name": "SelectMultipleModel",
      "state": {
       "index": [],
       "layout": "IPY_MODEL_64db3c363ec3452694bed3d3aaf8bc32",
       "rows": 5,
       "style": "IPY_MODEL_078cce55574449bdac0eebabe7a4ad17"
      }
     },
     "a7ef63217e464f4dbd790bc39f7a7521": {
      "model_module": "@jupyter-widgets/base",
      "model_module_version": "1.2.0",
      "model_name": "LayoutModel",
      "state": {}
     },
     "a9def343eb824672b5e75f4ba8434b4e": {
      "model_module": "@jupyter-widgets/controls",
      "model_module_version": "1.5.0",
      "model_name": "SelectMultipleModel",
      "state": {
       "_options_labels": [
        "hn",
        "tr",
        "hs",
        "gl",
        "as"
       ],
       "description": "Região(ões):",
       "index": [
        0
       ],
       "layout": "IPY_MODEL_55ca8d95576d4470946d2c7d125aedfb",
       "rows": 5,
       "style": "IPY_MODEL_ed3922ae57ad49bbb7bf40cb07bc006b"
      }
     },
     "aa6144c6ff034307ad41e6c730526c5a": {
      "model_module": "@jupyter-widgets/controls",
      "model_module_version": "1.5.0",
      "model_name": "VBoxModel",
      "state": {
       "children": [
        "IPY_MODEL_bb42460506b34d0d8fff82568d75ae99"
       ],
       "layout": "IPY_MODEL_48bdf99253e04e9dbad68e8012daa4bf"
      }
     },
     "ab5586afbe1442cfafcfc435814887e5": {
      "model_module": "@jupyter-widgets/controls",
      "model_module_version": "1.5.0",
      "model_name": "DatePickerModel",
      "state": {
       "description": "Data inicial:",
       "disabled": false,
       "layout": "IPY_MODEL_25222f97d682443a9a94fc1d08ffaf55",
       "style": "IPY_MODEL_6ec95d65db894e15812829f0f5923ba8",
       "value": {
        "date": 2,
        "month": 4,
        "year": 2015
       }
      }
     },
     "abaea3cf25b846348f196ea57eea389b": {
      "model_module": "@jupyter-widgets/base",
      "model_module_version": "1.2.0",
      "model_name": "LayoutModel",
      "state": {
       "grid_template_areas": "\"widget001 widget003\"\n\"widget002 widget004\"\n\"widget005 widget006\"\n\"widget007 widget008\"\n\"widget009 widget009\"\n\". .\"\n\". .\"\n\". .\"",
       "grid_template_columns": "repeat(2, 1fr)",
       "grid_template_rows": "repeat(8, 1fr)",
       "height": "auto"
      }
     },
     "ac09b65435e04cadb4b02435a114b598": {
      "model_module": "@jupyter-widgets/base",
      "model_module_version": "1.2.0",
      "model_name": "LayoutModel",
      "state": {
       "grid_area": "widget009"
      }
     },
     "af700958f8294b73b4c095c62314ffe0": {
      "model_module": "@jupyter-widgets/base",
      "model_module_version": "1.2.0",
      "model_name": "LayoutModel",
      "state": {
       "grid_area": "widget008"
      }
     },
     "b08d19ed177e4862845135b595190e11": {
      "model_module": "@jupyter-widgets/controls",
      "model_module_version": "1.5.0",
      "model_name": "VBoxModel",
      "state": {
       "children": [
        "IPY_MODEL_9a0d1018acf54b2f80fcbe74d8a99e06"
       ],
       "layout": "IPY_MODEL_b9eca1ac57854099b275a6988e80a051"
      }
     },
     "b11635c4f2a2406e8bce935caae56ed2": {
      "model_module": "@jupyter-widgets/base",
      "model_module_version": "1.2.0",
      "model_name": "LayoutModel",
      "state": {
       "grid_area": "widget004"
      }
     },
     "b47639f94b45401a8341c0944b190d60": {
      "model_module": "@jupyter-widgets/controls",
      "model_module_version": "1.5.0",
      "model_name": "VBoxModel",
      "state": {
       "children": [
        "IPY_MODEL_f0e882075dff4081b6eca68553b31db6"
       ],
       "layout": "IPY_MODEL_cd66c925b4dd4b679f6438228583becd"
      }
     },
     "b6c5ca7cfffd43358c1612836af7928a": {
      "model_module": "@jupyter-widgets/controls",
      "model_module_version": "1.5.0",
      "model_name": "GridBoxModel",
      "state": {
       "children": [
        "IPY_MODEL_77c54acccbef4172b0c6f7bc164952ed",
        "IPY_MODEL_1a13068de2d74a5380d7bf1aab00cd53",
        "IPY_MODEL_2a72b8941cb74887992c4126c14ef80f",
        "IPY_MODEL_a72d70d12b4a4c70a769a18d3ac1a443",
        "IPY_MODEL_41cd431799f143868293d59c72439b18",
        "IPY_MODEL_a9def343eb824672b5e75f4ba8434b4e",
        "IPY_MODEL_e2167a1c784948169b4b45708ed28a66",
        "IPY_MODEL_f3de072da6ee4ed68ce2a2cbc7292634",
        "IPY_MODEL_5b68995440d14cdd99c165395dff822a"
       ],
       "layout": "IPY_MODEL_db6aea375bab4307bb24ffa2c86e5ff4"
      }
     },
     "b7de8ae401874b648d7d753e1dbe3b8d": {
      "model_module": "@jupyter-widgets/controls",
      "model_module_version": "1.5.0",
      "model_name": "SelectMultipleModel",
      "state": {
       "_options_labels": [
        "VTMP-925",
        "VTMP-850",
        "VTMP-500",
        "TEMP-850",
        "TEMP-500",
        "TEMP-250",
        "PSNM-000",
        "UMES-925",
        "UMES-850",
        "UMES-500",
        "AGPL-925",
        "ZGEO-850",
        "ZGEO-500",
        "ZGEO-250",
        "UVEL-850",
        "UVEL-500",
        "UVEL-250",
        "VVEL-850",
        "VVEL-500",
        "VVEL-250",
        "PREC-000",
        "PREV-000"
       ],
       "description": "Variável(is) e Nível(is):",
       "index": [
        0
       ],
       "layout": "IPY_MODEL_25222f97d682443a9a94fc1d08ffaf55",
       "rows": 5,
       "style": "IPY_MODEL_a5ef5e3fb79e4ad9b5400842dcdbadd4"
      }
     },
     "b943b463a3e547b7ba3d77aafd19cc3c": {
      "model_module": "@jupyter-widgets/controls",
      "model_module_version": "1.5.0",
      "model_name": "ButtonStyleModel",
      "state": {}
     },
     "b9772cfdc2a6438582eac2e97b5df337": {
      "model_module": "@jupyter-widgets/controls",
      "model_module_version": "1.5.0",
      "model_name": "SelectMultipleModel",
      "state": {
       "_options_labels": [
        "00",
        "06",
        "12",
        "18"
       ],
       "description": "Horário(s):",
       "index": [
        0
       ],
       "layout": "IPY_MODEL_f0241d2aba6845e4a189e33305fb781b",
       "rows": 5,
       "style": "IPY_MODEL_a414b532c5c949429150a43b0b50ea41"
      }
     },
     "b98f6fec6d4845b786d3d9f709fe6bfe": {
      "model_module": "@jupyter-widgets/base",
      "model_module_version": "1.2.0",
      "model_name": "LayoutModel",
      "state": {
       "grid_area": "widget003"
      }
     },
     "b9eca1ac57854099b275a6988e80a051": {
      "model_module": "@jupyter-widgets/base",
      "model_module_version": "1.2.0",
      "model_name": "LayoutModel",
      "state": {
       "grid_area": "widget008"
      }
     },
     "ba4cb30a57334b42b130616a0b86cbcf": {
      "model_module": "@jupyter-widgets/controls",
      "model_module_version": "1.5.0",
      "model_name": "SelectMultipleModel",
      "state": {
       "_options_labels": [
        "hn",
        "tr",
        "hs",
        "gl",
        "as"
       ],
       "description": "Região(ões):",
       "index": [
        0
       ],
       "layout": "IPY_MODEL_25222f97d682443a9a94fc1d08ffaf55",
       "rows": 5,
       "style": "IPY_MODEL_8e8fe67c77d74c0a9286eff2422d1486"
      }
     },
     "baa5e50f74874d1a957f196b8cf38375": {
      "model_module": "@jupyter-widgets/base",
      "model_module_version": "1.2.0",
      "model_name": "LayoutModel",
      "state": {
       "grid_area": "widget006"
      }
     },
     "bb42460506b34d0d8fff82568d75ae99": {
      "model_module": "@jupyter-widgets/output",
      "model_module_version": "1.0.0",
      "model_name": "OutputModel",
      "state": {
       "layout": "IPY_MODEL_d926c8a439644ee3b466081455815021",
       "outputs": [
        {
         "name": "stdout",
         "output_type": "stream",
         "text": "\n\n\n\n\nfigura: output/mensal/HN/ACOR_MENSAL_VTMP-925_HN_0205201500_3105201500.png\n"
        },
        {
         "data": {
          "image/png": "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\n",
          "text/plain": "<Figure size 1080x360 with 1 Axes>"
         },
         "metadata": {},
         "output_type": "display_data"
        }
       ]
      }
     },
     "bc232233acf147f985d5790acba2f6de": {
      "model_module": "@jupyter-widgets/base",
      "model_module_version": "1.2.0",
      "model_name": "LayoutModel",
      "state": {}
     },
     "bf0ab3ea71434c43b8128651f9d7e23f": {
      "model_module": "@jupyter-widgets/controls",
      "model_module_version": "1.5.0",
      "model_name": "SelectMultipleModel",
      "state": {
       "_options_labels": [
        "hn",
        "tr",
        "hs",
        "gl",
        "as"
       ],
       "description": "Região(ões):",
       "index": [
        0
       ],
       "layout": "IPY_MODEL_a4543552431240b8950c9324f435b787",
       "rows": 5,
       "style": "IPY_MODEL_ef79e6f2081c47c38c161198769b60f8"
      }
     },
     "bf7a239a87d64a8a8e35a7a157d9b63e": {
      "model_module": "@jupyter-widgets/base",
      "model_module_version": "1.2.0",
      "model_name": "LayoutModel",
      "state": {
       "grid_area": "widget005"
      }
     },
     "c093952bd7184e429b108edb08827166": {
      "model_module": "@jupyter-widgets/controls",
      "model_module_version": "1.5.0",
      "model_name": "SelectMultipleModel",
      "state": {
       "_options_labels": [
        "ACOR",
        "RMSE",
        "MAE",
        "VIES"
       ],
       "description": "Estatística(s):",
       "index": [
        0
       ],
       "layout": "IPY_MODEL_0278f7fd952849deacb02984c3f7766f",
       "rows": 5,
       "style": "IPY_MODEL_51d774fbde5a4981ad5f4cc29124a81f"
      }
     },
     "c2959d2efc6b4008986c3b849bf3adbe": {
      "model_module": "@jupyter-widgets/controls",
      "model_module_version": "1.5.0",
      "model_name": "ButtonModel",
      "state": {
       "button_style": "info",
       "description": "Plotar Mensal",
       "icon": "chart-line",
       "layout": "IPY_MODEL_25222f97d682443a9a94fc1d08ffaf55",
       "style": "IPY_MODEL_28ce364933e642cf85454c7af7496ba3",
       "tooltip": "Clique para executar"
      }
     },
     "c3d7b9bfb8a44700832fd578b939dc20": {
      "model_module": "@jupyter-widgets/controls",
      "model_module_version": "1.5.0",
      "model_name": "DescriptionStyleModel",
      "state": {
       "description_width": ""
      }
     },
     "c559ad29323544b9a51107198f98b186": {
      "model_module": "@jupyter-widgets/controls",
      "model_module_version": "1.5.0",
      "model_name": "GridBoxModel",
      "state": {
       "children": [
        "IPY_MODEL_79998e676ab3480cbd8f277bcec7416d",
        "IPY_MODEL_020a2367eee54cf6853d02909127fd10",
        "IPY_MODEL_2ff0ec95b26b47d5b39a547aa5f59241",
        "IPY_MODEL_6d436539ca144923bbc1835e204a151a",
        "IPY_MODEL_ea280470e6844b498eb7ffa8aa884921",
        "IPY_MODEL_bf0ab3ea71434c43b8128651f9d7e23f",
        "IPY_MODEL_b9772cfdc2a6438582eac2e97b5df337",
        "IPY_MODEL_b08d19ed177e4862845135b595190e11",
        "IPY_MODEL_7d09cde749ea4751b4e55fe069b686b0"
       ],
       "layout": "IPY_MODEL_52d4b50583fb4fbd9d70d3bd041b4f1f"
      }
     },
     "c9653701266940f091f8256b29829298": {
      "model_module": "@jupyter-widgets/controls",
      "model_module_version": "1.5.0",
      "model_name": "DescriptionStyleModel",
      "state": {
       "description_width": ""
      }
     },
     "ca68cd1e06a647a09f215df3e3ca8c74": {
      "model_module": "@jupyter-widgets/base",
      "model_module_version": "1.2.0",
      "model_name": "LayoutModel",
      "state": {
       "grid_area": "widget009"
      }
     },
     "cbb6fa42e5b245a98c2af51483938816": {
      "model_module": "@jupyter-widgets/base",
      "model_module_version": "1.2.0",
      "model_name": "LayoutModel",
      "state": {
       "grid_template_areas": "\"widget001 widget003\"\n\"widget002 widget004\"\n\"widget005 widget006\"\n\"widget007 widget008\"\n\"widget009 widget009\"\n\". .\"\n\". .\"\n\". .\"\n\". .\"",
       "grid_template_columns": "repeat(2, 1fr)",
       "grid_template_rows": "repeat(9, 1fr)"
      }
     },
     "cd2afd09f364440ab59b0c59cd7ad6be": {
      "model_module": "@jupyter-widgets/base",
      "model_module_version": "1.2.0",
      "model_name": "LayoutModel",
      "state": {
       "grid_area": "widget007"
      }
     },
     "cd66c925b4dd4b679f6438228583becd": {
      "model_module": "@jupyter-widgets/base",
      "model_module_version": "1.2.0",
      "model_name": "LayoutModel",
      "state": {
       "grid_area": "widget008"
      }
     },
     "cf472f39a704491299cfcabe592be223": {
      "model_module": "@jupyter-widgets/base",
      "model_module_version": "1.2.0",
      "model_name": "LayoutModel",
      "state": {
       "grid_area": "widget003"
      }
     },
     "d3b7efd3b23342a9a8bd3d3b45ba6ff7": {
      "model_module": "@jupyter-widgets/controls",
      "model_module_version": "1.5.0",
      "model_name": "GridBoxModel",
      "state": {
       "children": [
        "IPY_MODEL_ab5586afbe1442cfafcfc435814887e5",
        "IPY_MODEL_64c2fdd6b0044e048238bb5bb92ff7c9",
        "IPY_MODEL_616891a378e942c1b19b87fac42f8905",
        "IPY_MODEL_39c1fdc251bd4230bb1e072c033d85fa",
        "IPY_MODEL_b7de8ae401874b648d7d753e1dbe3b8d",
        "IPY_MODEL_ba4cb30a57334b42b130616a0b86cbcf",
        "IPY_MODEL_47b758ede03d4b63ab5d86ccf57c872c",
        "IPY_MODEL_efd29fd320e6407492400845737eb0ad",
        "IPY_MODEL_aa6144c6ff034307ad41e6c730526c5a"
       ],
       "layout": "IPY_MODEL_103f96ef025b46cab43ca40dd7bdaa3a"
      }
     },
     "d926c8a439644ee3b466081455815021": {
      "model_module": "@jupyter-widgets/base",
      "model_module_version": "1.2.0",
      "model_name": "LayoutModel",
      "state": {}
     },
     "db6aea375bab4307bb24ffa2c86e5ff4": {
      "model_module": "@jupyter-widgets/base",
      "model_module_version": "1.2.0",
      "model_name": "LayoutModel",
      "state": {
       "grid_template_areas": "\"widget001 widget003\"\n\"widget002 widget004\"\n\"widget005 widget006\"\n\"widget007 widget008\"\n\"widget009 widget009\"\n\". .\"\n\". .\"\n\". .\"",
       "grid_template_columns": "repeat(2, 1fr)",
       "grid_template_rows": "repeat(8, 1fr)"
      }
     },
     "e11ee7ae6fab4c20b21fc11b674fbdbf": {
      "model_module": "@jupyter-widgets/base",
      "model_module_version": "1.2.0",
      "model_name": "LayoutModel",
      "state": {
       "grid_area": "widget005"
      }
     },
     "e2167a1c784948169b4b45708ed28a66": {
      "model_module": "@jupyter-widgets/controls",
      "model_module_version": "1.5.0",
      "model_name": "SelectMultipleModel",
      "state": {
       "_options_labels": [
        "00",
        "06",
        "12",
        "18"
       ],
       "description": "Horário(s):",
       "index": [
        0
       ],
       "layout": "IPY_MODEL_28408a0eb08943b1ba5a2b301482def6",
       "rows": 5,
       "style": "IPY_MODEL_631b2d52accc4fb6bdf12f8b5927424b"
      }
     },
     "e5f0bf339d0c45f695c917acb04902da": {
      "model_module": "@jupyter-widgets/controls",
      "model_module_version": "1.5.0",
      "model_name": "DescriptionStyleModel",
      "state": {
       "description_width": ""
      }
     },
     "e98bdd17e1084addbc836bf583d362e4": {
      "model_module": "@jupyter-widgets/base",
      "model_module_version": "1.2.0",
      "model_name": "LayoutModel",
      "state": {
       "height": "auto",
       "width": "auto"
      }
     },
     "ea05c412bd7e41d1b38550a64728b15f": {
      "model_module": "@jupyter-widgets/base",
      "model_module_version": "1.2.0",
      "model_name": "LayoutModel",
      "state": {
       "grid_area": "widget008"
      }
     },
     "ea280470e6844b498eb7ffa8aa884921": {
      "model_module": "@jupyter-widgets/controls",
      "model_module_version": "1.5.0",
      "model_name": "SelectMultipleModel",
      "state": {
       "_options_labels": [
        "VTMP-925",
        "VTMP-850",
        "VTMP-500",
        "TEMP-850",
        "TEMP-500",
        "TEMP-250",
        "PSNM-000",
        "UMES-925",
        "UMES-850",
        "UMES-500",
        "AGPL-925",
        "ZGEO-850",
        "ZGEO-500",
        "ZGEO-250",
        "UVEL-850",
        "UVEL-500",
        "UVEL-250",
        "VVEL-850",
        "VVEL-500",
        "VVEL-250",
        "PREC-000",
        "PREV-000"
       ],
       "description": "Variável(is) e Nível(is):",
       "index": [
        0
       ],
       "layout": "IPY_MODEL_56227eab53d24e6181138bed6d64439f",
       "rows": 5,
       "style": "IPY_MODEL_70727f51fefe4c9f8a08b00baabc3f26"
      }
     },
     "ed3922ae57ad49bbb7bf40cb07bc006b": {
      "model_module": "@jupyter-widgets/controls",
      "model_module_version": "1.5.0",
      "model_name": "DescriptionStyleModel",
      "state": {
       "description_width": ""
      }
     },
     "ef79e6f2081c47c38c161198769b60f8": {
      "model_module": "@jupyter-widgets/controls",
      "model_module_version": "1.5.0",
      "model_name": "DescriptionStyleModel",
      "state": {
       "description_width": ""
      }
     },
     "efd29fd320e6407492400845737eb0ad": {
      "model_module": "@jupyter-widgets/controls",
      "model_module_version": "1.5.0",
      "model_name": "VBoxModel",
      "state": {
       "children": [
        "IPY_MODEL_c2959d2efc6b4008986c3b849bf3adbe"
       ],
       "layout": "IPY_MODEL_ea05c412bd7e41d1b38550a64728b15f"
      }
     },
     "f00c1dacb9dc420ab900d6e2c34a5599": {
      "model_module": "@jupyter-widgets/controls",
      "model_module_version": "1.5.0",
      "model_name": "SelectMultipleModel",
      "state": {
       "_options_labels": [
        "VTMP-925",
        "VTMP-850",
        "VTMP-500",
        "TEMP-850",
        "TEMP-500",
        "TEMP-250",
        "PSNM-000",
        "UMES-925",
        "UMES-850",
        "UMES-500",
        "AGPL-925",
        "ZGEO-850",
        "ZGEO-500",
        "ZGEO-250",
        "UVEL-850",
        "UVEL-500",
        "UVEL-250",
        "VVEL-850",
        "VVEL-500",
        "VVEL-250",
        "PREC-000",
        "PREV-000"
       ],
       "description": "Variável(is) e Nível(is):",
       "index": [
        0
       ],
       "layout": "IPY_MODEL_e11ee7ae6fab4c20b21fc11b674fbdbf",
       "rows": 5,
       "style": "IPY_MODEL_47c671d0a69441d0b0b095fa342d2c70"
      }
     },
     "f0241d2aba6845e4a189e33305fb781b": {
      "model_module": "@jupyter-widgets/base",
      "model_module_version": "1.2.0",
      "model_name": "LayoutModel",
      "state": {
       "grid_area": "widget007"
      }
     },
     "f060366f307f4b6daf2059459825419a": {
      "model_module": "@jupyter-widgets/controls",
      "model_module_version": "1.5.0",
      "model_name": "DescriptionStyleModel",
      "state": {
       "description_width": ""
      }
     },
     "f0953420efdf4724acdae6106b81ba18": {
      "model_module": "@jupyter-widgets/base",
      "model_module_version": "1.2.0",
      "model_name": "LayoutModel",
      "state": {
       "grid_area": "widget001"
      }
     },
     "f0e882075dff4081b6eca68553b31db6": {
      "model_module": "@jupyter-widgets/controls",
      "model_module_version": "1.5.0",
      "model_name": "ButtonModel",
      "state": {
       "button_style": "info",
       "description": "Plotar Mensal",
       "icon": "chart-line",
       "layout": "IPY_MODEL_a734f770cec34852bee84ded9faf6ce7",
       "style": "IPY_MODEL_b943b463a3e547b7ba3d77aafd19cc3c",
       "tooltip": "Clique para executar"
      }
     },
     "f2cfeb0d95864e00a654f4e1cf2b827e": {
      "model_module": "@jupyter-widgets/base",
      "model_module_version": "1.2.0",
      "model_name": "LayoutModel",
      "state": {}
     },
     "f3de072da6ee4ed68ce2a2cbc7292634": {
      "model_module": "@jupyter-widgets/controls",
      "model_module_version": "1.5.0",
      "model_name": "VBoxModel",
      "state": {
       "children": [
        "IPY_MODEL_86489aa50f9c4f8fa2019880e54203a9"
       ],
       "layout": "IPY_MODEL_6b0d8bb63e8c4c7f895fca88d138f277"
      }
     },
     "f9e8988b4bb64a29b14072745aef939d": {
      "model_module": "@jupyter-widgets/base",
      "model_module_version": "1.2.0",
      "model_name": "LayoutModel",
      "state": {
       "grid_area": "widget008"
      }
     },
     "fb064f300ff24437a2f82940360ff1b5": {
      "model_module": "@jupyter-widgets/controls",
      "model_module_version": "1.5.0",
      "model_name": "ButtonStyleModel",
      "state": {}
     },
     "fb7b617fb42c413e924ff108fb1003f6": {
      "model_module": "@jupyter-widgets/controls",
      "model_module_version": "1.5.0",
      "model_name": "VBoxModel",
      "state": {
       "children": [
        "IPY_MODEL_737050f803fe43aeb472dacc492b3ee4"
       ],
       "layout": "IPY_MODEL_1b5f9c7609384cfdb9332e6f9cc44c7d"
      }
     }
    },
    "version_major": 2,
    "version_minor": 0
   }
  }
 },
 "nbformat": 4,
 "nbformat_minor": 4
}
