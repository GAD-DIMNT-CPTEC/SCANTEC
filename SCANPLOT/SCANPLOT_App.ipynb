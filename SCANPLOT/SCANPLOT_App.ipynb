{
 "cells": [
  {
   "cell_type": "markdown",
   "metadata": {},
   "source": [
    "# SCANPLOT - Um Sistema Simples de Plotagem para o SCANTEC\n",
    "\n",
    "O SCANTEC (Sistema de Avaliação de modelos Numéricos de Tempo e Clima), é um software robusto escrito em linguagem Fortan para a avaliação de modelos numéricos. A sua aplicação fornece as estatísticas básicas para a quantificação dos modelos através da sua habilidade de previsão. O SCANPLOT representa um conjunto de scripts escritos em linguagem Python para facilitar a plotagem das tabelas das estatísticas do SCANTEC.\n",
    "\n",
    "Este notebook foi pensado como uma forma de apresentação e tutorial do SCANPLOT. Nele, o usuário deverá ser capaz de utilizar os scripts criados alterando apenas os parâmetros necessários para que os scripts encontrem as tabelas do SCANTEC. Com este protótipo, é possível plotar quatro tipos diferentes de gráficos:\n",
    "\n",
    "* Série temporal em função do tempo de previsão;\n",
    "* Série temporal em função dos dias das previsões;\n",
    "* Scorecard do ganho percentual;\n",
    "* Scorecard da mudança fracional.\n",
    "\n",
    "O usuário deverá escolher qual tipo de gráfico deseja plotar em função da sua necessidade."
   ]
  },
  {
   "cell_type": "markdown",
   "metadata": {},
   "source": [
    "# Tutorial\n",
    "\n",
    "O tutorial está dividido em três partes. A primeira, \"Importando a função desejada\", mostra como carregar a função que se encarregará de plotar um dos tipos de gráficos desejados. A segunda parte, \"Entrada dos parâmetros\", mostra como ajustar os parâmetros principais (nome das variáveis, regiões, tipo de estatística etc) para a plotagem. E a terceira parte, \"Plotagem dos gráficos\", mostra como chamar a função carregada na primeira parte, de forma a utilizar os parâmetros ajustados na segunda parte.\n",
    "\n",
    "Siga o tutorial a seguir para aprender a utilizar o SCANPLOT."
   ]
  },
  {
   "cell_type": "markdown",
   "metadata": {},
   "source": [
    "## 1. Importando a função desejada\n",
    "\n",
    "O primeiro passo para a utilização do SCANPLOT, é definir que tipo de gráfico desejamos construir. Em parte, isso dependerá da forma como o SCANTEC foi utilizado na avaliação. Basicamente, o SCANTEC pode ser aplicado de duas formas distintas: indicando-se as mesmas datas de início de fim; ou, indicando-se duas datas diferentes para o início e o fim. No primeiro caso, o usuário precisará de um script que se encarregará de atualizar as datas de início e fim, de forma que a avaliação possa ser feita para diferentes datas. Ainda neste caso, as tabelas de avaliação serão escritas para cada um dos dias em que o SCANTEC foi aplicado. No segundo caso, apenas uma tabela de cada estatística será escrita, compreendendo o período de avaliação indicado. Esta diferença é essencial para a escolha do tipo de gráfico e qual função deverá ser empregada."
   ]
  },
  {
   "cell_type": "markdown",
   "metadata": {},
   "source": [
    "As funções disponíveis atualmente no SCANPLOT, são as seguintes:\n",
    "\n",
    "* scanplot_diário\n",
    "* scanplot_mensal\n",
    "* scanplot_scorecard\n",
    "\n",
    "Utilize a célula a seguir para importar a função desejada. Pressione as teclas \"Ctrl+Enter\" para prosseguir ou pressione o botão \"Run\" na barra de ferramentas acima."
   ]
  },
  {
   "cell_type": "code",
   "execution_count": 13,
   "metadata": {},
   "outputs": [],
   "source": [
    "from scanplot_diario import *"
   ]
  },
  {
   "cell_type": "markdown",
   "metadata": {},
   "source": [
    "## 2. Entrada dos parâmetros\n",
    "\n",
    "Nesta segunda etapa, devem ser escolhidos os parâmetros que determinarão qual(is) variáveis, região(ões) e estatística(s) serão utilizados para a plotagem do tipo de gráfico escolhido na etapa anterior.\n",
    "\n",
    "Na célula abaixo, estão sendo selecionados os parâmetros vars=[\"VVEL-850\"], reg=[\"hs\"], stat=[\"ACOR\"], hsin=[\"00\"] e fct=72. Isso significa que a variável \"VVEL-850\" (ou seja, a componente meridional do vento horizontal em 850 hPa) sobre a região \"hs\" (isto é, a região hemisfério sul), com a estatítica \"ACOR\" (isto é, correlação de anomalia), do horário sinótico das 00Z e das previsões de 72 horas. Observe que o nome da variável escolhida reflete o nome da coluna correspondente da tabela \"ACOR\\*T.scam\" do SCANTEC."
   ]
  },
  {
   "cell_type": "code",
   "execution_count": 18,
   "metadata": {},
   "outputs": [],
   "source": [
    "#start_dt = \n",
    "#end_dt = \n",
    "\n",
    "# As variáveis a seguir devem ser listas\n",
    "vars = \"VVEL-850\"\n",
    "reg = \"hs\"\n",
    "stat = \"ACOR\"\n",
    "hsin = \"00\"\n",
    "fct = 72\n",
    "\n",
    "var=vars.split(\"-\",1)[0] # remover esta linha daqui\n",
    "lev=vars.split(\"-\",1)[1] # remover esta linha daqui"
   ]
  },
  {
   "cell_type": "markdown",
   "metadata": {},
   "source": [
    "## 3. Plotagem dos gráficos\n",
    "\n",
    "Nesta última etapa, chama-se a funçao definida na primeira etapa, indicando os parâmetros selecionados na etapa anterior."
   ]
  },
  {
   "cell_type": "code",
   "execution_count": 19,
   "metadata": {},
   "outputs": [
    {
     "name": "stdout",
     "output_type": "stream",
     "text": [
      "\n",
      ">> Inicio: 2015-05-01  Fim: 2015-05-31\n",
      "\n",
      " > VVEL 850 72 hs 00\n",
      "allFiles_0: []\n",
      "\n",
      "allFiles_1: []\n",
      "\n",
      "allFiles_2: []\n",
      "\n",
      "allFiles_3: []\n",
      "\n",
      "\n",
      " > VVEL 850 72 hs 00\n",
      "allFiles_0: []\n",
      "\n",
      "allFiles_1: []\n",
      "\n",
      "allFiles_2: []\n",
      "\n",
      "allFiles_3: []\n",
      "\n",
      "\n",
      " > VVEL 850 72 hs 00\n",
      "allFiles_0: []\n",
      "\n",
      "allFiles_1: []\n",
      "\n",
      "allFiles_2: []\n",
      "\n",
      "allFiles_3: []\n",
      "\n",
      "\n",
      " > VVEL 850 72 hs 00\n",
      "allFiles_0: []\n",
      "\n",
      "allFiles_1: []\n",
      "\n",
      "allFiles_2: []\n",
      "\n",
      "allFiles_3: []\n",
      "\n",
      "\n",
      " > VVEL 850 72 hs 00\n",
      "allFiles_0: []\n",
      "\n",
      "allFiles_1: []\n",
      "\n",
      "allFiles_2: []\n",
      "\n",
      "allFiles_3: []\n",
      "\n",
      "\n",
      " > VVEL 850 72 hs 00\n",
      "allFiles_0: []\n",
      "\n",
      "allFiles_1: []\n",
      "\n",
      "allFiles_2: []\n",
      "\n",
      "allFiles_3: []\n",
      "\n",
      "\n",
      " > VVEL 850 72 hs 00\n",
      "allFiles_0: []\n",
      "\n",
      "allFiles_1: []\n",
      "\n",
      "allFiles_2: []\n",
      "\n",
      "allFiles_3: []\n",
      "\n",
      "\n",
      " > VVEL 850 72 hs 00\n",
      "allFiles_0: []\n",
      "\n",
      "allFiles_1: []\n",
      "\n",
      "allFiles_2: []\n",
      "\n",
      "allFiles_3: []\n",
      "\n",
      "\n",
      " > VVEL 850 72 hs 00\n",
      "allFiles_0: []\n",
      "\n",
      "allFiles_1: []\n",
      "\n",
      "allFiles_2: []\n",
      "\n",
      "allFiles_3: []\n",
      "\n",
      "\n",
      " > VVEL 850 72 hs 00\n",
      "allFiles_0: []\n",
      "\n",
      "allFiles_1: []\n",
      "\n",
      "allFiles_2: []\n",
      "\n",
      "allFiles_3: []\n",
      "\n",
      "\n",
      " > VVEL 850 72 hs 00\n",
      "allFiles_0: []\n",
      "\n",
      "allFiles_1: []\n",
      "\n",
      "allFiles_2: []\n",
      "\n",
      "allFiles_3: []\n",
      "\n",
      "\n",
      " > VVEL 850 72 hs 00\n",
      "allFiles_0: []\n",
      "\n",
      "allFiles_1: []\n",
      "\n",
      "allFiles_2: []\n",
      "\n",
      "allFiles_3: []\n",
      "\n",
      "\n",
      " > VVEL 850 72 hs 00\n",
      "allFiles_0: []\n",
      "\n",
      "allFiles_1: []\n",
      "\n",
      "allFiles_2: []\n",
      "\n",
      "allFiles_3: []\n",
      "\n",
      "\n",
      " > VVEL 850 72 hs 00\n",
      "allFiles_0: []\n",
      "\n",
      "allFiles_1: []\n",
      "\n",
      "allFiles_2: []\n",
      "\n",
      "allFiles_3: []\n",
      "\n",
      "\n",
      " > VVEL 850 72 hs 00\n",
      "allFiles_0: []\n",
      "\n",
      "allFiles_1: []\n",
      "\n",
      "allFiles_2: []\n",
      "\n",
      "allFiles_3: []\n",
      "\n",
      "\n",
      " > VVEL 850 72 hs 00\n",
      "allFiles_0: []\n",
      "\n",
      "allFiles_1: []\n",
      "\n",
      "allFiles_2: []\n",
      "\n",
      "allFiles_3: []\n",
      "\n",
      "\n",
      " > VVEL 850 72 hs 00\n",
      "allFiles_0: []\n",
      "\n",
      "allFiles_1: []\n",
      "\n",
      "allFiles_2: []\n",
      "\n",
      "allFiles_3: []\n",
      "\n",
      "\n",
      " > VVEL 850 72 hs 00\n",
      "allFiles_0: []\n",
      "\n",
      "allFiles_1: []\n",
      "\n",
      "allFiles_2: []\n",
      "\n",
      "allFiles_3: []\n",
      "\n",
      "\n",
      " > VVEL 850 72 hs 00\n",
      "allFiles_0: []\n",
      "\n",
      "allFiles_1: []\n",
      "\n",
      "allFiles_2: []\n",
      "\n",
      "allFiles_3: []\n",
      "\n",
      "\n",
      " > VVEL 850 72 hs 00\n",
      "allFiles_0: []\n",
      "\n",
      "allFiles_1: []\n",
      "\n",
      "allFiles_2: []\n",
      "\n",
      "allFiles_3: []\n",
      "\n",
      "\n",
      " > VVEL 850 72 hs 00\n",
      "allFiles_0: []\n",
      "\n",
      "allFiles_1: []\n",
      "\n",
      "allFiles_2: []\n",
      "\n",
      "allFiles_3: []\n",
      "\n",
      "\n",
      " > VVEL 850 72 hs 00\n",
      "allFiles_0: []\n",
      "\n",
      "allFiles_1: []\n",
      "\n",
      "allFiles_2: []\n",
      "\n",
      "allFiles_3: []\n",
      "\n",
      "\n",
      " > VVEL 850 72 hs 00\n",
      "allFiles_0: []\n",
      "\n",
      "allFiles_1: []\n",
      "\n",
      "allFiles_2: []\n",
      "\n",
      "allFiles_3: []\n",
      "\n",
      "\n",
      " > VVEL 850 72 hs 00\n",
      "allFiles_0: []\n",
      "\n",
      "allFiles_1: []\n",
      "\n",
      "allFiles_2: []\n",
      "\n",
      "allFiles_3: []\n",
      "\n",
      "\n",
      " > VVEL 850 72 hs 00\n",
      "allFiles_0: []\n",
      "\n",
      "allFiles_1: []\n",
      "\n",
      "allFiles_2: []\n",
      "\n",
      "allFiles_3: []\n",
      "\n",
      "\n",
      " > VVEL 850 72 hs 00\n",
      "allFiles_0: []\n",
      "\n",
      "allFiles_1: []\n",
      "\n",
      "allFiles_2: []\n",
      "\n",
      "allFiles_3: []\n",
      "\n",
      "\n",
      " > VVEL 850 72 hs 00\n",
      "allFiles_0: []\n",
      "\n",
      "allFiles_1: []\n",
      "\n",
      "allFiles_2: []\n",
      "\n",
      "allFiles_3: []\n",
      "\n",
      "\n",
      " > VVEL 850 72 hs 00\n",
      "allFiles_0: []\n",
      "\n",
      "allFiles_1: []\n",
      "\n",
      "allFiles_2: []\n",
      "\n",
      "allFiles_3: []\n",
      "\n",
      "\n",
      " > VVEL 850 72 hs 00\n",
      "allFiles_0: []\n",
      "\n",
      "allFiles_1: []\n",
      "\n",
      "allFiles_2: []\n",
      "\n",
      "allFiles_3: []\n",
      "\n",
      "\n",
      " > VVEL 850 72 hs 00\n",
      "allFiles_0: []\n",
      "\n",
      "allFiles_1: []\n",
      "\n",
      "allFiles_2: []\n",
      "\n",
      "allFiles_3: []\n",
      "\n",
      "\n",
      " > VVEL 850 72 hs 00\n",
      "allFiles_0: []\n",
      "\n",
      "allFiles_1: []\n",
      "\n",
      "allFiles_2: []\n",
      "\n",
      "allFiles_3: []\n",
      "\n",
      "lista_0_fmt: [nan, nan, nan, nan, nan, nan, nan, nan, nan, nan, nan, nan, nan, nan, nan, nan, nan, nan, nan, nan, nan, nan, nan, nan, nan, nan, nan, nan, nan, nan, nan]\n",
      "\n",
      "lista_1_fmt: [nan, nan, nan, nan, nan, nan, nan, nan, nan, nan, nan, nan, nan, nan, nan, nan, nan, nan, nan, nan, nan, nan, nan, nan, nan, nan, nan, nan, nan, nan, nan]\n",
      "\n",
      "lista_2_fmt: [nan, nan, nan, nan, nan, nan, nan, nan, nan, nan, nan, nan, nan, nan, nan, nan, nan, nan, nan, nan, nan, nan, nan, nan, nan, nan, nan, nan, nan, nan, nan]\n",
      "\n",
      "lista_3_fmt: [nan, nan, nan, nan, nan, nan, nan, nan, nan, nan, nan, nan, nan, nan, nan, nan, nan, nan, nan, nan, nan, nan, nan, nan, nan, nan, nan, nan, nan, nan, nan]\n",
      "\n",
      "datas_0: [nan, nan, nan, nan, nan, nan, nan, nan, nan, nan, nan, nan, nan, nan, nan, nan, nan, nan, nan, nan, nan, nan, nan, nan, nan, nan, nan, nan, nan, nan, nan]\n",
      "\n",
      "datas_1: [nan, nan, nan, nan, nan, nan, nan, nan, nan, nan, nan, nan, nan, nan, nan, nan, nan, nan, nan, nan, nan, nan, nan, nan, nan, nan, nan, nan, nan, nan, nan]\n",
      "\n",
      "datas_2: [nan, nan, nan, nan, nan, nan, nan, nan, nan, nan, nan, nan, nan, nan, nan, nan, nan, nan, nan, nan, nan, nan, nan, nan, nan, nan, nan, nan, nan, nan, nan]\n",
      "\n",
      "datas_3: [nan, nan, nan, nan, nan, nan, nan, nan, nan, nan, nan, nan, nan, nan, nan, nan, nan, nan, nan, nan, nan, nan, nan, nan, nan, nan, nan, nan, nan, nan, nan]\n",
      "\n",
      "All NaNs\n"
     ]
    }
   ],
   "source": [
    "plot_diario(start_dt,end_dt,var,stat,fct,lev,reg,hsin)"
   ]
  },
  {
   "cell_type": "code",
   "execution_count": 22,
   "metadata": {},
   "outputs": [],
   "source": [
    "import IPython\n",
    "from IPython.display import Image"
   ]
  },
  {
   "cell_type": "code",
   "execution_count": 14,
   "metadata": {},
   "outputs": [
    {
     "name": "stdout",
     "output_type": "stream",
     "text": [
      "IPython version: 6.5.0\n"
     ]
    }
   ],
   "source": [
    "print(\"IPython version: {}\". format(IPython.__version__))"
   ]
  },
  {
   "cell_type": "code",
   "execution_count": 23,
   "metadata": {},
   "outputs": [
    {
     "name": "stdout",
     "output_type": "stream",
     "text": [
      "output/diario/HS/ACOR_DIARIO_VVEL-850_HS_48h_2015-05-0100_2015-05-3100.png\n"
     ]
    }
   ],
   "source": [
    "print(path + str(reg.upper()) +\"/ACOR_DIARIO_VVEL-850_\"+ str(reg.upper()) +\"_48h_2015-05-0100_2015-05-3100.png\")"
   ]
  },
  {
   "cell_type": "code",
   "execution_count": 24,
   "metadata": {},
   "outputs": [],
   "source": [
    "path = \"output/diario/\"\n",
    "\n",
    "a1 = Image(url=path    + str(reg.upper()) \n",
    "                  +\"/ACOR_DIARIO_VVEL-850_\"\n",
    "                  + str(reg.upper()) \n",
    "                  +\"_24h_2015-05-0100_2015-05-3100.png\",\n",
    "                  width=700, height=700)\n",
    "\n",
    "a2 = Image(url=path    + str(reg.upper()) \n",
    "                  +\"/ACOR_DIARIO_VVEL-850_\"\n",
    "                  + str(reg.upper()) \n",
    "                  +\"_48h_2015-05-0100_2015-05-3100.png\",\n",
    "                  width=700, height=700)\n",
    "\n",
    "a3 = Image(url=path    + str(reg.upper()) \n",
    "                  +\"/ACOR_DIARIO_VVEL-850_\"\n",
    "                  + str(reg.upper()) \n",
    "                  +\"_72h_2015-05-0100_2015-05-3100.png\",\n",
    "                  width=700, height=700)"
   ]
  },
  {
   "cell_type": "code",
   "execution_count": 17,
   "metadata": {},
   "outputs": [
    {
     "data": {
      "text/html": [
       "<img src=\"output/diario/HS/ACOR_DIARIO_VVEL-850_HS_24h_2015-05-0100_2015-05-3100.png\" width=\"700\" height=\"700\"/>"
      ],
      "text/plain": [
       "<IPython.core.display.Image object>"
      ]
     },
     "execution_count": 17,
     "metadata": {},
     "output_type": "execute_result"
    }
   ],
   "source": [
    "a1"
   ]
  },
  {
   "cell_type": "code",
   "execution_count": 18,
   "metadata": {},
   "outputs": [
    {
     "data": {
      "text/html": [
       "<img src=\"output/diario/HS/ACOR_DIARIO_VVEL-850_HS_48h_2015-05-0100_2015-05-3100.png\" width=\"700\" height=\"700\"/>"
      ],
      "text/plain": [
       "<IPython.core.display.Image object>"
      ]
     },
     "execution_count": 18,
     "metadata": {},
     "output_type": "execute_result"
    }
   ],
   "source": [
    "a2"
   ]
  },
  {
   "cell_type": "code",
   "execution_count": 25,
   "metadata": {},
   "outputs": [
    {
     "data": {
      "text/html": [
       "<img src=\"output/diario/HS/ACOR_DIARIO_VVEL-850_HS_72h_2015-05-0100_2015-05-3100.png\" width=\"700\" height=\"700\"/>"
      ],
      "text/plain": [
       "<IPython.core.display.Image object>"
      ]
     },
     "execution_count": 25,
     "metadata": {},
     "output_type": "execute_result"
    }
   ],
   "source": [
    "a3"
   ]
  }
 ],
 "metadata": {
  "kernelspec": {
   "display_name": "Python 3",
   "language": "python",
   "name": "python3"
  },
  "language_info": {
   "codemirror_mode": {
    "name": "ipython",
    "version": 3
   },
   "file_extension": ".py",
   "mimetype": "text/x-python",
   "name": "python",
   "nbconvert_exporter": "python",
   "pygments_lexer": "ipython3",
   "version": "3.7.1"
  }
 },
 "nbformat": 4,
 "nbformat_minor": 2
}
