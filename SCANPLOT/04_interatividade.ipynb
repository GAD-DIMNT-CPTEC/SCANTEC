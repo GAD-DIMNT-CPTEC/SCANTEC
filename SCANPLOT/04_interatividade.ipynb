{
 "cells": [
  {
   "cell_type": "markdown",
   "metadata": {},
   "source": [
    "# 4. Interatividade\n",
    "\n",
    "Uitilizando o SCANPLOT dentro de um notebook do Jupyter, é possível criar gráficos interativos. Exemplos destes tipos de gráficos, podem incluir a adição ou a remoção de curvas, alterações de intervalos e aspectos visuais dos gráficos. Para isso, será necessário fazer uso da biblioteca ipywidgets do Python."
   ]
  },
  {
   "cell_type": "code",
   "execution_count": 1,
   "metadata": {},
   "outputs": [],
   "source": [
    "from matplotlib import pylab\n",
    "import ipywidgets as widgets\n",
    "from ipywidgets import GridspecLayout\n",
    "from IPython.display import display, clear_output"
   ]
  },
  {
   "cell_type": "code",
   "execution_count": 2,
   "metadata": {},
   "outputs": [
    {
     "name": "stdout",
     "output_type": "stream",
     "text": [
      "##versões utilizadas##\n",
      "Python version: 3.8.2 (default, Mar 26 2020, 10:43:30) \n",
      "[Clang 4.0.1 (tags/RELEASE_401/final)]\n",
      "NumPy version: 1.18.1\n",
      "pandas version: 1.0.3\n",
      "matplotlib version: 3.2.1\n",
      "seaborn version: 0.10.1\n",
      "    \n",
      "##versões utilizadas##\n",
      "Python version: 3.8.2 (default, Mar 26 2020, 10:43:30) \n",
      "[Clang 4.0.1 (tags/RELEASE_401/final)]\n",
      "NumPy version: 1.18.1\n",
      "pandas version: 1.0.3\n",
      "matplotlib version: 3.2.1\n",
      "seaborn version: 0.10.1\n",
      "    \n"
     ]
    }
   ],
   "source": [
    "from scanplot_mensal_jn import *\n",
    "from scanplot_diario_jn import *"
   ]
  },
  {
   "cell_type": "code",
   "execution_count": 3,
   "metadata": {},
   "outputs": [],
   "source": [
    "#%matplotlib qt\n",
    "%matplotlib inline\n",
    "pylab.rcParams['figure.figsize'] = (15,5)"
   ]
  },
  {
   "cell_type": "code",
   "execution_count": 4,
   "metadata": {},
   "outputs": [],
   "source": [
    "# Caminho para absoluto para as tabelas\n",
    "base_path_diario = \"./aval_SMG/diario/00Z/\"\n",
    "base_path_mensal = \"./aval_SMG/mensal/00Z/\""
   ]
  },
  {
   "cell_type": "code",
   "execution_count": 5,
   "metadata": {},
   "outputs": [],
   "source": [
    "#bstyle = widgets.Button(layout=Layout(width='90%', height='40px'))\n",
    "#dpstyle = widgets.DatePicker(layout=Layout(width='90%', height='40px'))\n",
    "#smstyle = widgets.SelectMultiple(layout=Layout(width='90%', height='150px'))\n",
    "\n",
    "#style = widgets.SelectMultiple(layout=Layout(width='auto', height='auto'))\n",
    "\n",
    "dataInicial = widgets.DatePicker(\n",
    "    description='Data inicial:',\n",
    "#    layout=style.layout,\n",
    "    value=pd.to_datetime('2015-05-02'),\n",
    "    disabled=False\n",
    ")\n",
    "\n",
    "dataFinal = widgets.DatePicker(\n",
    "    description='Data final:',\n",
    "#    layout=style.layout,\n",
    "    value=pd.to_datetime('2015-05-31'),\n",
    "    disabled=False\n",
    ")\n",
    "\n",
    "Vars = widgets.SelectMultiple(\n",
    "    options=['VTMP-925', 'VTMP-850', 'VTMP-500', \n",
    "             'TEMP-850', 'TEMP-500', 'TEMP-250',\n",
    "             'PSNM-000', 'UMES-925', 'UMES-850',\n",
    "             'UMES-500', 'AGPL-925', 'ZGEO-850',\n",
    "             'ZGEO-500', 'ZGEO-250', 'UVEL-850',\n",
    "             'UVEL-500', 'UVEL-250', 'VVEL-850',\n",
    "             'VVEL-500', 'VVEL-250', 'PREC-000',\n",
    "             'PREV-000'],\n",
    "    value=['VTMP-925'],\n",
    "#    layout=style.layout,\n",
    "    description='Variável(is) e Nível(is):',\n",
    "    disabled=False\n",
    ")\n",
    "\n",
    "Regs = widgets.SelectMultiple(\n",
    "    options=['hn', 'tr', 'hs', 'gl', 'as'],\n",
    "    value=['hn'],\n",
    "#    layout=style.layout,    \n",
    "    description='Região(ões):',\n",
    "    disabled=False\n",
    ")\n",
    "\n",
    "Stats = widgets.SelectMultiple(\n",
    "    options=['ACOR', 'RMSE', 'MAE', 'VIES'],\n",
    "    value=['ACOR'],\n",
    "#    layout=style.layout,    \n",
    "    description='Estatística(s):',\n",
    "    disabled=False\n",
    ")\n",
    "\n",
    "Hsins = widgets.SelectMultiple(\n",
    "    options=['00', '06', '12', '18'],\n",
    "    value=['00'],\n",
    "#    layout=style.layout,    \n",
    "    description='Horário(s):',\n",
    "    disabled=False\n",
    ")\n",
    "\n",
    "Fcts = widgets.Dropdown(\n",
    "    options=[('24',  24), ('48',  48), ('72',  72), ('96',  96)],\n",
    "    value=24,\n",
    "#    layout=style.layout,    \n",
    "    description='Previsão(ões):',\n",
    ")\n",
    "\n",
    "Plotar = widgets.Button(\n",
    "    description='Plotar Mensal',\n",
    "#    layout=style.layout,\n",
    "    disabled=False,\n",
    "    button_style='success', # 'success', 'info', 'warning', 'danger' or ''\n",
    "    tooltip='Clique para executar',\n",
    "    icon='chart-line' # (FontAwesome names without the `fa-` prefix) https://fontawesome.com/icons\n",
    ")\n",
    "\n",
    "out = widgets.Output()\n",
    "\n",
    "def on_button_clicked(b):\n",
    "    Plotar.description = 'Plotar Mensal'\n",
    "    Plotar.button_style='info'\n",
    "    with out:\n",
    "        clear_output()\n",
    "        plot_mensal(dataInicial.value.day,dataFinal.value.day,dataInicial.value.month,dataInicial.value.year,Vars.value,Stats.value,Regs.value,Hsins.value,base_path_mensal)\n",
    "\n",
    "Plotar.on_click(on_button_clicked)"
   ]
  },
  {
   "cell_type": "code",
   "execution_count": 6,
   "metadata": {},
   "outputs": [
    {
     "data": {
      "application/vnd.jupyter.widget-view+json": {
       "model_id": "d433ddd70ffa4803a92202fd58ac557d",
       "version_major": 2,
       "version_minor": 0
      },
      "text/plain": [
       "GridspecLayout(children=(DatePicker(value=Timestamp('2015-05-02 00:00:00'), description='Data inicial:', layou…"
      ]
     },
     "metadata": {},
     "output_type": "display_data"
    }
   ],
   "source": [
    "# create a 10x2 grid layout\n",
    "#grid = GridspecLayout(8, 2, height='auto')\n",
    "grid = GridspecLayout(9, 2)\n",
    "# fill it in with widgets\n",
    "grid[0, 0] = dataInicial\n",
    "grid[1, 0] = dataFinal\n",
    "grid[0, 1] = Stats\n",
    "grid[1, 1] = Fcts\n",
    "grid[2, 0] = Vars\n",
    "grid[2, 1] = Regs\n",
    "grid[3, 0] = Hsins\n",
    "grid[3, 1] = widgets.VBox([Plotar])\n",
    "grid[4, :] = widgets.VBox([out])\n",
    "\n",
    "grid"
   ]
  },
  {
   "cell_type": "markdown",
   "metadata": {},
   "source": [
    "[Home](SCANPLOT_App.ipynb) | [<< Anterior 3. Plotagem dos Gráficos](03_plotagem_dos_graficos.ipynb)"
   ]
  }
 ],
 "metadata": {
  "kernelspec": {
   "display_name": "Python 3",
   "language": "python",
   "name": "python3"
  },
  "language_info": {
   "codemirror_mode": {
    "name": "ipython",
    "version": 3
   },
   "file_extension": ".py",
   "mimetype": "text/x-python",
   "name": "python",
   "nbconvert_exporter": "python",
   "pygments_lexer": "ipython3",
   "version": "3.8.2"
  }
 },
 "nbformat": 4,
 "nbformat_minor": 4
}
