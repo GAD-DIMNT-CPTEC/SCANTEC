{
 "cells": [
  {
   "cell_type": "markdown",
   "metadata": {},
   "source": [
    "# 2. Entrada dos parâmetros\n",
    "\n",
    "Nesta segunda etapa, devem ser escolhidos os parâmetros que determinarão qual(is) variáveis, região(ões) e estatística(s) serão utilizados para a plotagem do tipo de gráfico escolhido na etapa anterior.\n",
    "\n",
    "Na célula abaixo, estão sendo selecionados os parâmetros vars=[\"VVEL-850\"], reg=[\"hs\"], stat=[\"ACOR\"], hsin=[\"00\"] e as previsões de 24, 48 e 72 horas (o comando \"np.arange(24,96,24)\", cria um array com estes valores). Isso significa que a variável \"VVEL-850\" (ou seja, a componente meridional do vento horizontal em 850 hPa) sobre a região \"hs\" (isto é, a região hemisfério sul), com a estatítica \"ACOR\" (isto é, correlação de anomalia), do horário sinótico das 00Z e das previsões indicadas. A variável \"base_path\" aponta para o caminho onde encontam-se as tabelas do SCANTEC. Você deverá ajustar este caminho para o seu caso. Observe que o nome da variável escolhida reflete o nome da coluna correspondente da tabela \"ACOR\\*T.scam\" do SCANTEC."
   ]
  },
  {
   "cell_type": "code",
   "execution_count": 2,
   "metadata": {},
   "outputs": [
    {
     "name": "stdout",
     "output_type": "stream",
     "text": [
      "##versões utilizadas##\n",
      "Python version: 3.8.2 (default, Mar 26 2020, 10:43:30) \n",
      "[Clang 4.0.1 (tags/RELEASE_401/final)]\n",
      "NumPy version: 1.18.1\n",
      "pandas version: 1.0.3\n",
      "matplotlib version: 3.2.1\n",
      "seaborn version: 0.10.1\n",
      "    \n",
      "##versões utilizadas##\n",
      "Python version: 3.8.2 (default, Mar 26 2020, 10:43:30) \n",
      "[Clang 4.0.1 (tags/RELEASE_401/final)]\n",
      "NumPy version: 1.18.1\n",
      "pandas version: 1.0.3\n",
      "matplotlib version: 3.2.1\n",
      "seaborn version: 0.10.1\n",
      "    \n"
     ]
    }
   ],
   "source": [
    "from scanplot_mensal_jn import *\n",
    "from scanplot_diario_jn import *"
   ]
  },
  {
   "cell_type": "code",
   "execution_count": 3,
   "metadata": {},
   "outputs": [],
   "source": [
    "# Datas de início, fim mes e ano\n",
    "# de forma inteira e sem o zero em números menores do que 10\n",
    "diaInicial = 2\n",
    "diaFinal   = 31\n",
    "mes = 5\n",
    "ano = 2015\n",
    "\n",
    "# Escolha das variáveis (em listas)\n",
    "Vars = [\"VVEL-850\"]\n",
    "Regs = [\"hs\"]\n",
    "Stats = [\"ACOR\"]\n",
    "Hsins = [\"00\"]\n",
    "Fcts = np.arange(24,96,24)\n",
    "\n",
    "# Caminho para absoluto para as tabelas\n",
    "base_path_diario = \"./aval_SMG/diario/00Z/\"\n",
    "base_path_mensal = \"./aval_SMG/mensal/00Z/\""
   ]
  },
  {
   "cell_type": "markdown",
   "metadata": {},
   "source": [
    "[Home](SCANPLOT_App.ipynb) | [<< Anterior 1. Importando a Função Desejada](01_importando_a_funcao_desejada.ipynb) | [Próximo >> 3. Plotagem dos Gráficos](03_plotagem_dos_graficos.ipynb)"
   ]
  }
 ],
 "metadata": {
  "kernelspec": {
   "display_name": "Python 3",
   "language": "python",
   "name": "python3"
  },
  "language_info": {
   "codemirror_mode": {
    "name": "ipython",
    "version": 3
   },
   "file_extension": ".py",
   "mimetype": "text/x-python",
   "name": "python",
   "nbconvert_exporter": "python",
   "pygments_lexer": "ipython3",
   "version": "3.8.2"
  }
 },
 "nbformat": 4,
 "nbformat_minor": 4
}
